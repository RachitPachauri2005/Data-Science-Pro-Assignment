{
 "cells": [
  {
   "cell_type": "code",
   "execution_count": 1,
   "id": "a7e5dad1-0304-44d1-b79b-e8bdd9cd1548",
   "metadata": {},
   "outputs": [
    {
     "name": "stdin",
     "output_type": "stream",
     "text": [
      "Enter the sring Rachit\n"
     ]
    },
    {
     "name": "stdout",
     "output_type": "stream",
     "text": [
      "6\n"
     ]
    }
   ],
   "source": [
    "## String Based Questions\n",
    "\"\"\"1.Write a Python program that takes a string as input and prints the length of\n",
    "the string.\"\"\"\n",
    "s = input(\"Enter the sring\")\n",
    "print(len(s))"
   ]
  },
  {
   "cell_type": "code",
   "execution_count": 2,
   "id": "3a058433-9187-4264-acff-c10e85fb7fba",
   "metadata": {},
   "outputs": [
    {
     "name": "stdin",
     "output_type": "stream",
     "text": [
      "Enter the string rachit\n"
     ]
    },
    {
     "name": "stdout",
     "output_type": "stream",
     "text": [
      "tihcar\n"
     ]
    }
   ],
   "source": [
    "\"\"\"3.Given a string, reverse the order of characters using string slicing and print\n",
    "the reversed string.\"\"\"\n",
    "s1 = input(\"Enter the string\")\n",
    "s1 = s1[::-1]\n",
    "print(s1)"
   ]
  },
  {
   "cell_type": "code",
   "execution_count": 8,
   "id": "c7c8dd19-5488-4350-bde6-75e4bb760c90",
   "metadata": {},
   "outputs": [
    {
     "name": "stdin",
     "output_type": "stream",
     "text": [
      "Enter the string hi i am rachit\n"
     ]
    },
    {
     "name": "stdout",
     "output_type": "stream",
     "text": [
      "5\n"
     ]
    }
   ],
   "source": [
    "\"\"\"2.Create a program that takes a sentence from the user and counts the number\n",
    "of vowels (a, e, i, o, u) in the string.\"\"\"\n",
    "s = input(\"Enter the string\")\n",
    "s = s.upper()\n",
    "print(s.count(\"A\")+s.count(\"E\")+s.count(\"I\")+s.count(\"O\")+s.count(\"U\"))"
   ]
  },
  {
   "cell_type": "code",
   "execution_count": 1,
   "id": "aa238c76-49e5-4575-9708-345349ded94e",
   "metadata": {},
   "outputs": [
    {
     "name": "stdin",
     "output_type": "stream",
     "text": [
      "Enter the string rachit\n"
     ]
    },
    {
     "name": "stdout",
     "output_type": "stream",
     "text": [
      "not palindrome\n"
     ]
    }
   ],
   "source": [
    "\"\"\"4. Write a program that takes a string as input and checks if it is a palindrome\n",
    "(reads the same forwards and backwards).\"\"\"\n",
    "s = input(\"Enter the string\")\n",
    "s1=s[::-1]\n",
    "if s1 == s:\n",
    "    print(\"palindrome\")\n",
    "else :\n",
    "    print(\"not palindrome\")"
   ]
  },
  {
   "cell_type": "code",
   "execution_count": 22,
   "id": "9bea5df4-0b5d-47c3-8f3e-f10ac728a5af",
   "metadata": {},
   "outputs": [
    {
     "name": "stdin",
     "output_type": "stream",
     "text": [
      "Enter the string  i am  rachit\n"
     ]
    },
    {
     "name": "stdout",
     "output_type": "stream",
     "text": [
      "modified string without spaces : i am  rachit\n"
     ]
    }
   ],
   "source": [
    "\"\"\"5. Create a program that takes a string as input and removes all the spaces from\n",
    "it. Print the modified string without spaces.\"\"\"\n",
    "s = input(\"Enter the string \")\n",
    "s = s.replace(\" \",\"\")\n",
    "print(\"modified string without spaces :\",s)"
   ]
  },
  {
   "cell_type": "code",
   "execution_count": 8,
   "id": "22c37c35-e0a1-4b99-a581-297f8437ce50",
   "metadata": {},
   "outputs": [
    {
     "name": "stdin",
     "output_type": "stream",
     "text": [
      "Enter first number 3\n",
      "Enter second number 5\n"
     ]
    },
    {
     "name": "stdout",
     "output_type": "stream",
     "text": [
      "first number = 5\n",
      "second number = 3\n"
     ]
    }
   ],
   "source": [
    "##Python Basics Variable\n",
    "\"\"\"1. Declare two variables, `x` and `y`, and assign them integer values. Swap the\n",
    "values of these variables without using any temporary variable.\"\"\"\n",
    "x = int(input(\"Enter first number\"))\n",
    "y = int(input(\"Enter second number\"))\n",
    "x = x+y\n",
    "y = x-y\n",
    "x = x-y\n",
    "print(\"first number =\", x)\n",
    "print(\"second number =\", y)\n",
    "\n",
    "\n"
   ]
  },
  {
   "cell_type": "code",
   "execution_count": 13,
   "id": "7005b575-fe6e-482f-9508-d8c4905b931d",
   "metadata": {},
   "outputs": [
    {
     "name": "stdin",
     "output_type": "stream",
     "text": [
      "Enter the length 5.5\n",
      "Enter the width 6.5\n"
     ]
    },
    {
     "name": "stdout",
     "output_type": "stream",
     "text": [
      "area of rectangle = 35.75\n"
     ]
    }
   ],
   "source": [
    "\"\"\"2. Create a program that calculates the area of a rectangle. Take the length and\n",
    "width as inputs from the user and store them in variables. Calculate and\n",
    "display the area.\"\"\"\n",
    "l = float(input(\"Enter the length\"))\n",
    "b = float(input(\"Enter the width\"))\n",
    "area = l*b\n",
    "print(\"area of rectangle =\",area)\n"
   ]
  },
  {
   "cell_type": "code",
   "execution_count": 16,
   "id": "2335c90a-3e33-4184-b76f-157c649b6c56",
   "metadata": {},
   "outputs": [
    {
     "name": "stdin",
     "output_type": "stream",
     "text": [
      "Enter the temperature in celsius 37\n"
     ]
    },
    {
     "name": "stdout",
     "output_type": "stream",
     "text": [
      "The temperature in fahrenheit = 98.60000000000001\n"
     ]
    }
   ],
   "source": [
    "\"\"\"3. Write a Python program that converts temperatures from Celsius to\n",
    "Fahrenheit. Take the temperature in Celsius as input, store it in a variable,\n",
    "convert it to Fahrenheit, and display the result.\"\"\"\n",
    "cel = float(input(\"Enter the temperature in celsius\"))\n",
    "fah = ((9/5)*cel)+32\n",
    "print(\"The temperature in fahrenheit =\",fah)"
   ]
  },
  {
   "cell_type": "code",
   "execution_count": null,
   "id": "df96bfab-fe23-4553-85a1-727089d5ffcc",
   "metadata": {},
   "outputs": [],
   "source": []
  }
 ],
 "metadata": {
  "kernelspec": {
   "display_name": "Python 3 (ipykernel)",
   "language": "python",
   "name": "python3"
  },
  "language_info": {
   "codemirror_mode": {
    "name": "ipython",
    "version": 3
   },
   "file_extension": ".py",
   "mimetype": "text/x-python",
   "name": "python",
   "nbconvert_exporter": "python",
   "pygments_lexer": "ipython3",
   "version": "3.10.8"
  }
 },
 "nbformat": 4,
 "nbformat_minor": 5
}
