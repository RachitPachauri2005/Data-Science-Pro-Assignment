{
 "cells": [
  {
   "cell_type": "markdown",
   "id": "aa281eab-3d36-44f4-ba9b-03227534117e",
   "metadata": {},
   "source": [
    "## TOPIC: String Based Assignment Problem"
   ]
  },
  {
   "cell_type": "markdown",
   "id": "dae16cec-465c-4363-9a43-cac85f81f5fc",
   "metadata": {},
   "source": [
    "### 1. Write a program to reverse a string."
   ]
  },
  {
   "cell_type": "code",
   "execution_count": 1,
   "id": "cbfe63cc-9882-4e3f-80d0-56a5be79dff3",
   "metadata": {},
   "outputs": [
    {
     "name": "stdin",
     "output_type": "stream",
     "text": [
      "Enter the string rachit\n"
     ]
    },
    {
     "name": "stdout",
     "output_type": "stream",
     "text": [
      "tihcar\n"
     ]
    }
   ],
   "source": [
    "s = input(\"Enter the string\")\n",
    "s = s[::-1]\n",
    "print(s)"
   ]
  },
  {
   "cell_type": "markdown",
   "id": "e675a16c-4819-4b9d-a565-4182eafc309f",
   "metadata": {},
   "source": [
    "### 2. Check if a string is a palindrome."
   ]
  },
  {
   "cell_type": "code",
   "execution_count": 6,
   "id": "e2313d8b-7a1c-4d0f-8f25-62dc13640586",
   "metadata": {},
   "outputs": [
    {
     "name": "stdin",
     "output_type": "stream",
     "text": [
      "Enter the string Tet\n"
     ]
    },
    {
     "name": "stdout",
     "output_type": "stream",
     "text": [
      "palindrome\n"
     ]
    }
   ],
   "source": [
    "s = input(\"Enter the string\")\n",
    "s = s.upper()\n",
    "if s == s[::-1]:\n",
    "    print(\"palindrome\")\n",
    "else:\n",
    "    print(\"not palindrome\")"
   ]
  },
  {
   "cell_type": "markdown",
   "id": "b48279cc-1e26-4d17-a47e-745c9505b539",
   "metadata": {},
   "source": [
    "### 3. Convert a string to uppercase."
   ]
  },
  {
   "cell_type": "code",
   "execution_count": 7,
   "id": "e0afee3e-6282-45d8-869e-b38445f36660",
   "metadata": {},
   "outputs": [
    {
     "name": "stdin",
     "output_type": "stream",
     "text": [
      "Enter the string rachit\n"
     ]
    },
    {
     "name": "stdout",
     "output_type": "stream",
     "text": [
      "RACHIT\n"
     ]
    }
   ],
   "source": [
    "s = input(\"Enter the string\")\n",
    "print(s.upper())"
   ]
  },
  {
   "cell_type": "markdown",
   "id": "31859b81-01da-42d4-8e2d-562562be72dc",
   "metadata": {},
   "source": [
    "### 4. Convert a string to lowercase."
   ]
  },
  {
   "cell_type": "code",
   "execution_count": 8,
   "id": "53c39dec-520b-4ea4-a0ba-3a650f3ec09b",
   "metadata": {},
   "outputs": [
    {
     "name": "stdin",
     "output_type": "stream",
     "text": [
      "Enter the string RACHIT\n"
     ]
    },
    {
     "name": "stdout",
     "output_type": "stream",
     "text": [
      "rachit\n"
     ]
    }
   ],
   "source": [
    "s = input(\"Enter the string\")\n",
    "print(s.lower())"
   ]
  },
  {
   "cell_type": "markdown",
   "id": "1dd26964-4412-44f9-bc29-33476f762387",
   "metadata": {},
   "source": [
    "### 5. Count the number of vowels in a string."
   ]
  },
  {
   "cell_type": "code",
   "execution_count": 10,
   "id": "c5650c18-c250-4225-a0cf-46239f258d6e",
   "metadata": {},
   "outputs": [
    {
     "name": "stdin",
     "output_type": "stream",
     "text": [
      "Enter the string aeiou\n"
     ]
    },
    {
     "data": {
      "text/plain": [
       "5"
      ]
     },
     "execution_count": 10,
     "metadata": {},
     "output_type": "execute_result"
    }
   ],
   "source": [
    "s = input(\"Enter the string\")\n",
    "s.count(\"a\") + s.count(\"e\") + s.count(\"i\") + s.count(\"o\") + s.count(\"u\")"
   ]
  },
  {
   "cell_type": "markdown",
   "id": "9d99829c-4d57-4902-8dd0-82017613a129",
   "metadata": {},
   "source": [
    "### 6. Count the number of consonants in a string."
   ]
  },
  {
   "cell_type": "code",
   "execution_count": 3,
   "id": "2a1f83f0-f63e-4fc3-b1fb-25c88148565a",
   "metadata": {},
   "outputs": [
    {
     "name": "stdout",
     "output_type": "stream",
     "text": [
      "0\n",
      "5\n"
     ]
    }
   ],
   "source": [
    "s=\"aeiou\"\n",
    "s=s.lower()\n",
    "l=len(s)\n",
    "cc=0\n",
    "vc=0\n",
    "for i in range(l):\n",
    "    if s[i]==\"a\" or s[i]==\"e\" or s[i]==\"i\" or s[i]==\"o\" or s[i]==\"u\":\n",
    "        vc=vc+1\n",
    "    elif s[i]>=\"a\" and s[i]<=\"z\":\n",
    "        cc= cc+1\n",
    "print(cc)\n",
    "print(vc)"
   ]
  },
  {
   "cell_type": "markdown",
   "id": "14530b5f-194e-442a-a2db-3bc94422e256",
   "metadata": {},
   "source": [
    "### 7. Remove all whitespaces from a string."
   ]
  },
  {
   "cell_type": "code",
   "execution_count": 13,
   "id": "ca5235e8-76ae-49b4-a8a0-663bae5dc4de",
   "metadata": {},
   "outputs": [
    {
     "name": "stdin",
     "output_type": "stream",
     "text": [
      "Enter the string r  achit\n"
     ]
    },
    {
     "name": "stdout",
     "output_type": "stream",
     "text": [
      "rachit\n"
     ]
    }
   ],
   "source": [
    "s = input(\"Enter the string\")\n",
    "s  =s.replace(\" \" ,\"\")\n",
    "print(s)"
   ]
  },
  {
   "cell_type": "markdown",
   "id": "61165f22-dbd9-4f2a-8b01-2411735318b1",
   "metadata": {},
   "source": [
    "### 8. Find the length of a string without using the `len()` function."
   ]
  },
  {
   "cell_type": "code",
   "execution_count": 1,
   "id": "f33a225b-ce8a-4aff-b050-fbd61713bc0a",
   "metadata": {},
   "outputs": [
    {
     "name": "stdin",
     "output_type": "stream",
     "text": [
      "Enter the string ra cgguh\n"
     ]
    },
    {
     "name": "stdout",
     "output_type": "stream",
     "text": [
      "8\n"
     ]
    }
   ],
   "source": [
    "s=input(\"Enter the string\")\n",
    "c=0\n",
    "for i in s:\n",
    "    if type(s)==str:\n",
    "        c=c+1\n",
    "print(c)        \n",
    "        "
   ]
  },
  {
   "cell_type": "markdown",
   "id": "c7f16fc3-95af-4deb-bd08-aa5ffb37f9ef",
   "metadata": {},
   "source": [
    "### 9. Check if a string contains a specific word."
   ]
  },
  {
   "cell_type": "code",
   "execution_count": 12,
   "id": "6c542183-5323-4b9c-9319-7b23233b6842",
   "metadata": {},
   "outputs": [
    {
     "name": "stdin",
     "output_type": "stream",
     "text": [
      "enter the word z\n"
     ]
    },
    {
     "name": "stdout",
     "output_type": "stream",
     "text": [
      "not contains\n"
     ]
    }
   ],
   "source": [
    "s=\"i am rachit\"\n",
    "s.lower()\n",
    "s1=input(\"enter the word\")\n",
    "if s.find(s1)!=-1:\n",
    "    print(\"contains\")\n",
    "else:\n",
    "    print(\"not contains\")"
   ]
  },
  {
   "cell_type": "markdown",
   "id": "1f1faec8-1fcc-4fa2-a729-0247c41e25ef",
   "metadata": {},
   "source": [
    "### 10. Replace a word in a string with another word."
   ]
  },
  {
   "cell_type": "code",
   "execution_count": 17,
   "id": "88777fb8-0e31-4289-aadb-5922985e8e52",
   "metadata": {},
   "outputs": [
    {
     "name": "stdout",
     "output_type": "stream",
     "text": [
      "Rachit is handsome\n"
     ]
    }
   ],
   "source": [
    "s = \"Rachit is smart\"\n",
    "s = s.replace(\"smart\",\"handsome\")\n",
    "print(s)"
   ]
  },
  {
   "cell_type": "markdown",
   "id": "9e50b573-8f93-49b4-9e8c-b8c4c6b5fa6e",
   "metadata": {},
   "source": [
    "### 11. Count the occurrences of a word in a string."
   ]
  },
  {
   "cell_type": "code",
   "execution_count": 18,
   "id": "bf329bb6-e988-431d-8183-ec8709338d74",
   "metadata": {},
   "outputs": [
    {
     "name": "stdin",
     "output_type": "stream",
     "text": [
      "Enter the string Rachit is hardworking,smart\n",
      "Enter the word smart\n"
     ]
    },
    {
     "data": {
      "text/plain": [
       "1"
      ]
     },
     "execution_count": 18,
     "metadata": {},
     "output_type": "execute_result"
    }
   ],
   "source": [
    "s = input(\"Enter the string\")\n",
    "w = input(\"Enter the word\")\n",
    "s.count(w)"
   ]
  },
  {
   "cell_type": "markdown",
   "id": "dae2cac1-fdee-475a-97f2-951ebae74d88",
   "metadata": {},
   "source": [
    "### 12. Find the first occurrence of a word in a string."
   ]
  },
  {
   "cell_type": "code",
   "execution_count": 13,
   "id": "4ed5f91b-3a06-4132-984a-a6c0e1bedc7d",
   "metadata": {},
   "outputs": [
    {
     "name": "stdin",
     "output_type": "stream",
     "text": [
      "Enter the string hi hi rachit\n",
      "Enter the word hi\n"
     ]
    },
    {
     "data": {
      "text/plain": [
       "0"
      ]
     },
     "execution_count": 13,
     "metadata": {},
     "output_type": "execute_result"
    }
   ],
   "source": [
    "s = input(\"Enter the string\")\n",
    "w = input(\"Enter the word\")\n",
    "s.find(w)"
   ]
  },
  {
   "cell_type": "markdown",
   "id": "457c7828-7c5d-4416-b678-03f4abfbc1a9",
   "metadata": {},
   "source": [
    "### 13. Find the last occurrence of a word in a string."
   ]
  },
  {
   "cell_type": "code",
   "execution_count": 14,
   "id": "f5a732a8-8a1f-43d9-8cdd-0ca05596c5d1",
   "metadata": {},
   "outputs": [
    {
     "name": "stdin",
     "output_type": "stream",
     "text": [
      "Enter the string i i  i\n",
      "Enter the word i\n"
     ]
    },
    {
     "data": {
      "text/plain": [
       "5"
      ]
     },
     "execution_count": 14,
     "metadata": {},
     "output_type": "execute_result"
    }
   ],
   "source": [
    "s = input(\"Enter the string\")\n",
    "w = input(\"Enter the word\")\n",
    "s.rfind(w)"
   ]
  },
  {
   "cell_type": "markdown",
   "id": "3772601e-9faf-4a1b-bd26-e79bec38647f",
   "metadata": {},
   "source": [
    "### 14. Split a string into a list of words."
   ]
  },
  {
   "cell_type": "code",
   "execution_count": 26,
   "id": "8e642e75-b464-40c1-acd0-3839c14b8d4d",
   "metadata": {},
   "outputs": [
    {
     "name": "stdin",
     "output_type": "stream",
     "text": [
      "Enter the string rachit is good\n"
     ]
    },
    {
     "data": {
      "text/plain": [
       "['rachit', 'is', 'good']"
      ]
     },
     "execution_count": 26,
     "metadata": {},
     "output_type": "execute_result"
    }
   ],
   "source": [
    "s = input(\"Enter the string\")\n",
    "s.split()"
   ]
  },
  {
   "cell_type": "markdown",
   "id": "4199ac77-be7d-4480-80c2-192125dbe9f8",
   "metadata": {},
   "source": [
    "### 15. Join a list of words into a string."
   ]
  },
  {
   "cell_type": "code",
   "execution_count": 145,
   "id": "a457331b-b41c-42a7-9446-27a54859ee0c",
   "metadata": {},
   "outputs": [],
   "source": [
    "s=[\"r\",\"t\",\"z\"]"
   ]
  },
  {
   "cell_type": "code",
   "execution_count": 147,
   "id": "adfc902f-6e63-4abf-baf6-a19cbe4df4d8",
   "metadata": {},
   "outputs": [
    {
     "name": "stdout",
     "output_type": "stream",
     "text": [
      "rtz\n"
     ]
    }
   ],
   "source": [
    "s2=\"\"\n",
    "for i in s:\n",
    "    s2=s2+\"\".join(i)\n",
    "print(s2)    \n",
    "    "
   ]
  },
  {
   "cell_type": "markdown",
   "id": "f53fe901-eed9-401c-8b18-1ff100e66430",
   "metadata": {},
   "source": [
    "### 16. Convert a string where words are separated by spaces to one where words are separated by underscores."
   ]
  },
  {
   "cell_type": "code",
   "execution_count": 16,
   "id": "0e9adfe9-0cd0-4bb8-a14c-5c07334e8bfd",
   "metadata": {},
   "outputs": [
    {
     "data": {
      "text/plain": [
       "'i_am_rachit'"
      ]
     },
     "execution_count": 16,
     "metadata": {},
     "output_type": "execute_result"
    }
   ],
   "source": [
    "s=\"i am rachit\"\n",
    "s.replace(\" \",\"_\")"
   ]
  },
  {
   "cell_type": "markdown",
   "id": "1c064261-1aff-4d5e-bc77-85c5a1b61579",
   "metadata": {},
   "source": [
    "### 17. Check if a string starts with a specific word or phrase."
   ]
  },
  {
   "cell_type": "code",
   "execution_count": 26,
   "id": "e373738e-0f29-4082-9185-a521d9ee7f02",
   "metadata": {},
   "outputs": [
    {
     "name": "stdin",
     "output_type": "stream",
     "text": [
      "enter the word i am\n"
     ]
    },
    {
     "data": {
      "text/plain": [
       "True"
      ]
     },
     "execution_count": 26,
     "metadata": {},
     "output_type": "execute_result"
    }
   ],
   "source": [
    "s=\"i am rachit\"\n",
    "s.lower()\n",
    "s1=input(\"enter the word\")\n",
    "s.startswith(s1)"
   ]
  },
  {
   "cell_type": "markdown",
   "id": "5fe2343c-7727-41f8-b298-73a907d6135e",
   "metadata": {},
   "source": [
    "### 18. Check if a string ends with a specific word or phrase."
   ]
  },
  {
   "cell_type": "code",
   "execution_count": 24,
   "id": "c3e6f8d7-2952-414b-ae42-c6ca8e7e12f8",
   "metadata": {},
   "outputs": [
    {
     "name": "stdin",
     "output_type": "stream",
     "text": [
      "enter the word t\n"
     ]
    },
    {
     "data": {
      "text/plain": [
       "True"
      ]
     },
     "execution_count": 24,
     "metadata": {},
     "output_type": "execute_result"
    }
   ],
   "source": [
    "s=\"i am rachit\"\n",
    "s.lower()\n",
    "s1=input(\"enter the word\")\n",
    "s.endswith(s1)"
   ]
  },
  {
   "cell_type": "markdown",
   "id": "57f91a38-9e67-407e-9998-27ee09885279",
   "metadata": {},
   "source": [
    "### 19. Convert a string to title case (e.g., \"hello world\" to \"Hello World\")."
   ]
  },
  {
   "cell_type": "code",
   "execution_count": 150,
   "id": "89b1035e-d108-4398-8837-166af0ee05d2",
   "metadata": {},
   "outputs": [
    {
     "data": {
      "text/plain": [
       "'Hello World'"
      ]
     },
     "execution_count": 150,
     "metadata": {},
     "output_type": "execute_result"
    }
   ],
   "source": [
    "s=\"hello world\"\n",
    "s=s.title()\n",
    "s"
   ]
  },
  {
   "cell_type": "markdown",
   "id": "d1773dcb-25c7-413b-b77a-8b1ca0b151b8",
   "metadata": {},
   "source": [
    "### 20. Find the longest word in a string."
   ]
  },
  {
   "cell_type": "code",
   "execution_count": 22,
   "id": "fb790942-cbe8-4e86-80cf-da77ef453c5c",
   "metadata": {},
   "outputs": [
    {
     "name": "stdout",
     "output_type": "stream",
     "text": [
      "rachit\n"
     ]
    }
   ],
   "source": [
    "s=\"rachit is good\"\n",
    "s=s.split()\n",
    "l=s\n",
    "res=len(max(l,key=len))\n",
    "res\n",
    "for i in l:\n",
    "    if len(i)==res:\n",
    "        print(i)"
   ]
  },
  {
   "cell_type": "markdown",
   "id": "f8a373fc-3e82-4217-9186-296e98e47f3b",
   "metadata": {},
   "source": [
    "### 21. Find the shortest word in a string."
   ]
  },
  {
   "cell_type": "code",
   "execution_count": 24,
   "id": "a5559f28-c9a4-46bb-ad33-5edd4ca9c2c6",
   "metadata": {},
   "outputs": [
    {
     "name": "stdout",
     "output_type": "stream",
     "text": [
      "is\n"
     ]
    }
   ],
   "source": [
    "s=\"rachit is good\"\n",
    "s=s.split()\n",
    "l=s\n",
    "res=len(min(l,key=len))\n",
    "res\n",
    "for i in l:\n",
    "    if len(i)==res:\n",
    "        print(i)"
   ]
  },
  {
   "cell_type": "markdown",
   "id": "cd6803fd-a5a8-4c64-975a-514474d53d41",
   "metadata": {},
   "source": [
    "### 22. Reverse the order of words in a string."
   ]
  },
  {
   "cell_type": "code",
   "execution_count": 151,
   "id": "99288c7d-a287-4853-a64c-742c310d0c11",
   "metadata": {},
   "outputs": [
    {
     "data": {
      "text/plain": [
       "'tihcar'"
      ]
     },
     "execution_count": 151,
     "metadata": {},
     "output_type": "execute_result"
    }
   ],
   "source": [
    "s=\"rachit\"\n",
    "s=s[::-1]\n",
    "s"
   ]
  },
  {
   "cell_type": "markdown",
   "id": "59a95a61-333e-4687-9ed6-cc680a2e9716",
   "metadata": {},
   "source": [
    "### 23. Check if a string is alphanumeric."
   ]
  },
  {
   "cell_type": "code",
   "execution_count": 158,
   "id": "a47fa2b9-a15b-43e1-98cb-7a2700af077f",
   "metadata": {},
   "outputs": [
    {
     "data": {
      "text/plain": [
       "False"
      ]
     },
     "execution_count": 158,
     "metadata": {},
     "output_type": "execute_result"
    }
   ],
   "source": [
    "s=\"rachit \"\n",
    "s.isalnum()"
   ]
  },
  {
   "cell_type": "markdown",
   "id": "34756e78-a599-491f-99a7-1bca0564afa1",
   "metadata": {},
   "source": [
    "### 24. Extract all digits from a string."
   ]
  },
  {
   "cell_type": "code",
   "execution_count": 52,
   "id": "21a7b502-082d-4faf-a7f2-d147e762b152",
   "metadata": {},
   "outputs": [
    {
     "data": {
      "text/plain": [
       "['1', '2', '3']"
      ]
     },
     "execution_count": 52,
     "metadata": {},
     "output_type": "execute_result"
    }
   ],
   "source": [
    "s=\"123rachit\"\n",
    "l=list(s)\n",
    "r=[]\n",
    "for i in l:\n",
    "    if i.isnumeric():\n",
    "        r.append(i)\n",
    "r        "
   ]
  },
  {
   "cell_type": "markdown",
   "id": "dd9cd683-cbfb-439e-b49c-2486ccda744c",
   "metadata": {},
   "source": [
    "### 25. Extract all alphabets from a string."
   ]
  },
  {
   "cell_type": "code",
   "execution_count": 58,
   "id": "ede9741b-6d59-497a-a3c7-123c5a2ad4e8",
   "metadata": {},
   "outputs": [
    {
     "data": {
      "text/plain": [
       "['r', 'a', 'c', 'h', 'i', 't']"
      ]
     },
     "execution_count": 58,
     "metadata": {},
     "output_type": "execute_result"
    }
   ],
   "source": [
    "s=\"123rachit\"\n",
    "l=list(s)\n",
    "r=[]\n",
    "s1=\"\"\n",
    "for i in l:\n",
    "    if i.isalpha():\n",
    "        r.append(i)\n",
    "r \n"
   ]
  },
  {
   "cell_type": "markdown",
   "id": "2b1578f4-eb12-467e-9899-8ffca6559b1c",
   "metadata": {},
   "source": [
    "### 26. Count the number of uppercase letters in a string."
   ]
  },
  {
   "cell_type": "code",
   "execution_count": 176,
   "id": "da074a10-c9fd-4d5b-b12f-960e6a38cfec",
   "metadata": {},
   "outputs": [
    {
     "data": {
      "text/plain": [
       "2"
      ]
     },
     "execution_count": 176,
     "metadata": {},
     "output_type": "execute_result"
    }
   ],
   "source": [
    "l=[]\n",
    "s= \"I am gooD\"\n",
    "for i in s:\n",
    "    if i.isupper()==True:\n",
    "        l.append(i)\n",
    "len(l)       \n",
    "                \n",
    "        "
   ]
  },
  {
   "cell_type": "markdown",
   "id": "2b27075e-d688-4f3b-92d4-5e4858b737c3",
   "metadata": {},
   "source": [
    "### 27. Count the number of lowercase letters in a string."
   ]
  },
  {
   "cell_type": "code",
   "execution_count": 175,
   "id": "e06eda05-cb5c-467c-8358-3915c03d250a",
   "metadata": {},
   "outputs": [
    {
     "data": {
      "text/plain": [
       "5"
      ]
     },
     "execution_count": 175,
     "metadata": {},
     "output_type": "execute_result"
    }
   ],
   "source": [
    "l=[]\n",
    "s= \"I am gooD\"\n",
    "for i in s:\n",
    "    if i.islower()==True:\n",
    "        l.append(i)\n",
    "len(l)        "
   ]
  },
  {
   "cell_type": "markdown",
   "id": "4b7bdaf6-c2cf-4e2f-877d-436c2ca6d8b9",
   "metadata": {},
   "source": [
    "###  28. Swap the case of each character in a string."
   ]
  },
  {
   "cell_type": "code",
   "execution_count": 37,
   "id": "04d80c2b-15d8-46a0-ab51-77928a5fa5d6",
   "metadata": {},
   "outputs": [
    {
     "data": {
      "text/plain": [
       "'RAChit'"
      ]
     },
     "execution_count": 37,
     "metadata": {},
     "output_type": "execute_result"
    }
   ],
   "source": [
    "s=\"racHIT\"\n",
    "s=s.swapcase()\n",
    "s"
   ]
  },
  {
   "cell_type": "markdown",
   "id": "75c6f348-f42c-4926-a12d-7a2a4ff94326",
   "metadata": {},
   "source": [
    "### 29. Remove a specific word from a string."
   ]
  },
  {
   "cell_type": "code",
   "execution_count": 53,
   "id": "32c5db71-263c-40b1-8703-111dac052a2e",
   "metadata": {},
   "outputs": [
    {
     "data": {
      "text/plain": [
       "'I am  Pachauri'"
      ]
     },
     "execution_count": 53,
     "metadata": {},
     "output_type": "execute_result"
    }
   ],
   "source": [
    "s= \"I am Rachit Pachauri\"\n",
    "s=s.replace(\"Rachit\",\"\")\n",
    "s"
   ]
  },
  {
   "cell_type": "markdown",
   "id": "72ccc83d-f794-4ca5-8562-172ee061a7c2",
   "metadata": {
    "tags": []
   },
   "source": [
    "### 30. Check if a string is a valid email address."
   ]
  },
  {
   "cell_type": "code",
   "execution_count": 3,
   "id": "3001b9c3-548b-465d-b0e8-0991373ea690",
   "metadata": {},
   "outputs": [
    {
     "name": "stdout",
     "output_type": "stream",
     "text": [
      "Valid email address\n"
     ]
    }
   ],
   "source": [
    "import re  \n",
    "  \n",
    "def validate_email(email):  \n",
    "    if re.match(r\"[^@]+@[^@]+\\.[^@]+\", email):  \n",
    "        return True  \n",
    "    return False  \n",
    "  \n",
    "email = \"example@domain.com\"  \n",
    "if validate_email(email):  \n",
    "    print(\"Valid email address\")  \n",
    "else:  \n",
    "    print(\"Invalid email address\")  "
   ]
  },
  {
   "cell_type": "markdown",
   "id": "71fa490a-8982-4b6c-8b50-26b57870cd07",
   "metadata": {},
   "source": [
    "###  31. Extract the username from an email address string."
   ]
  },
  {
   "cell_type": "code",
   "execution_count": 69,
   "id": "ba62f40f-5abd-409d-854c-f221b7495f7a",
   "metadata": {
    "tags": []
   },
   "outputs": [
    {
     "data": {
      "text/plain": [
       "'rachit'"
      ]
     },
     "execution_count": 69,
     "metadata": {},
     "output_type": "execute_result"
    }
   ],
   "source": [
    "s=\"rachit@gmail.com\"\n",
    "l=s.index(\"@\")\n",
    "s1=\"\"\n",
    "for i in s[:l]:\n",
    "    if i.isalpha():\n",
    "        s1=s1+\"\".join(i)\n",
    "s1    "
   ]
  },
  {
   "cell_type": "markdown",
   "id": "e369f06b-efbe-4411-98c4-fcf639735c11",
   "metadata": {},
   "source": [
    "### 32. Extract the domain name from an email address string."
   ]
  },
  {
   "cell_type": "code",
   "execution_count": 72,
   "id": "bcee3132-de09-4292-a5e4-5363f1b8cc13",
   "metadata": {},
   "outputs": [
    {
     "data": {
      "text/plain": [
       "'gmail.com'"
      ]
     },
     "execution_count": 72,
     "metadata": {},
     "output_type": "execute_result"
    }
   ],
   "source": [
    "s=\"rachit@gmail.com\"\n",
    "l=s.index(\"@\")\n",
    "s1=\"\"\n",
    "for i in s[l:]:\n",
    "    if i.isalpha() or i==\".\":\n",
    "        s1=s1+\"\".join(i)\n",
    "s1    "
   ]
  },
  {
   "cell_type": "markdown",
   "id": "8dae71a5-edf5-4d71-aef6-bf88982a6fd7",
   "metadata": {},
   "source": [
    "### 33. Replace multiple spaces in a string with a single space."
   ]
  },
  {
   "cell_type": "code",
   "execution_count": 60,
   "id": "6cbb2edc-cb97-4c97-b5e9-d648e98db7f9",
   "metadata": {},
   "outputs": [
    {
     "data": {
      "text/plain": [
       "'i am rachit pachauri'"
      ]
     },
     "execution_count": 60,
     "metadata": {},
     "output_type": "execute_result"
    }
   ],
   "source": [
    "s=\"i am rachit     pachauri\"\n",
    "w=s.split()\n",
    "s1=\"\"\n",
    "s1=s1+\" \".join(w)\n",
    "s1"
   ]
  },
  {
   "cell_type": "markdown",
   "id": "47a5d237-ee33-4970-a13e-b1a166f247d7",
   "metadata": {},
   "source": [
    "### 34. Check if a string is a valid URL."
   ]
  },
  {
   "cell_type": "code",
   "execution_count": 6,
   "id": "5c654c2d-1157-4884-bd47-4bd14c7ace98",
   "metadata": {},
   "outputs": [
    {
     "name": "stdout",
     "output_type": "stream",
     "text": [
      "True\n",
      "False\n"
     ]
    }
   ],
   "source": [
    "from urllib.parse import urlparse\n",
    "\n",
    "def is_valid_url(url):\n",
    "    try:\n",
    "        result = urlparse(url)\n",
    "        return all([result.scheme, result.netloc])  \n",
    "    except ValueError:\n",
    "        return False\n",
    "\n",
    "# Example URLs\n",
    "url1 = \"https://www.example.com\"\n",
    "url2 = \"invalid-url\"\n",
    "result1 = is_valid_url(url1)\n",
    "result2 = is_valid_url(url2)\n",
    "print(result1)  \n",
    "print(result2)  "
   ]
  },
  {
   "cell_type": "markdown",
   "id": "c8ffab5f-d0d7-4719-ac72-4a75d9f64d5b",
   "metadata": {},
   "source": [
    "### 35. Extract the protocol (http or https) from a URL string."
   ]
  },
  {
   "cell_type": "code",
   "execution_count": 8,
   "id": "f1a470e8-86b2-4199-af27-292e489bff68",
   "metadata": {},
   "outputs": [
    {
     "name": "stdout",
     "output_type": "stream",
     "text": [
      "Protocol 1: https\n",
      "Protocol 2: http\n",
      "Protocol 3: ftp\n"
     ]
    }
   ],
   "source": [
    "def extract_protocol(url):\n",
    "   \n",
    "    protocol_end = url.find(\"://\")\n",
    "\n",
    "    if protocol_end != -1:\n",
    "        \n",
    "        protocol = url[:protocol_end]\n",
    "        return protocol\n",
    "    else:\n",
    "        return None\n",
    "\n",
    "\n",
    "url1 = \"https://www.example.com\"\n",
    "url2 = \"http://google.com\"\n",
    "url3 = \"ftp://ftp.example.com\"\n",
    "\n",
    "\n",
    "protocol1 = extract_protocol(url1)\n",
    "protocol2 = extract_protocol(url2)\n",
    "protocol3 = extract_protocol(url3)\n",
    "\n",
    "\n",
    "print(\"Protocol 1:\", protocol1)\n",
    "print(\"Protocol 2:\", protocol2)\n",
    "print(\"Protocol 3:\", protocol3)"
   ]
  },
  {
   "cell_type": "markdown",
   "id": "0e445f58-bf58-4243-accb-b8c3d67ce844",
   "metadata": {},
   "source": [
    "### 36. Find the frequency of each character in a string."
   ]
  },
  {
   "cell_type": "code",
   "execution_count": 2,
   "id": "3cb39979-df16-40c4-8bf7-55eb0634920b",
   "metadata": {},
   "outputs": [],
   "source": [
    "def character_frequency(input_string):\n",
    "    frequency = {}  \n",
    "\n",
    "    for char in input_string:\n",
    "        if char in frequency:\n",
    "            frequency[char] += 1 \n",
    "            frequency[char] = 1   \n",
    "\n",
    "    return frequency\n",
    "\n",
    "\n",
    "input_str = \"hello world\"\n",
    "\n",
    "\n",
    "char_freq = character_frequency(input_str)\n",
    "\n",
    "\n",
    "for char, freq in char_freq.items():\n",
    "    print(f\"Character: '{char}', Frequency: {freq}\")"
   ]
  },
  {
   "cell_type": "markdown",
   "id": "fe3f0ac7-6dec-4779-8597-e6f92c50e382",
   "metadata": {},
   "source": [
    "### 37. Remove all punctuation from a string."
   ]
  },
  {
   "cell_type": "code",
   "execution_count": 23,
   "id": "f30f4975-3037-44e1-b88f-ba278f7ed64a",
   "metadata": {},
   "outputs": [
    {
     "name": "stdout",
     "output_type": "stream",
     "text": [
      "The original string is : Gfg, is best : for ! Geeks ;\n",
      "The string after punctuation filter : Gfg is best  for  Geeks \n"
     ]
    }
   ],
   "source": [
    "test_str = \"Gfg, is best : for ! Geeks ;\"\n",
    " \n",
    "\n",
    "print(\"The original string is : \" + test_str)\n",
    " \n",
    "\n",
    "punc = '''!()-[]{};:'\"\\,<>./?@#$%^&*_~'''\n",
    " \n",
    "\n",
    "for ele in test_str:\n",
    "    if ele in punc:\n",
    "        test_str = test_str.replace(ele, \"\")\n",
    " \n",
    "\n",
    "print(\"The string after punctuation filter : \" + test_str)"
   ]
  },
  {
   "cell_type": "markdown",
   "id": "51ab2554-baab-4393-ac82-38bcc0ec1247",
   "metadata": {},
   "source": [
    "### 38. Check if a string contains only digits."
   ]
  },
  {
   "cell_type": "code",
   "execution_count": 3,
   "id": "98a7e53c-c108-4f3e-b843-424c6fd4f014",
   "metadata": {},
   "outputs": [
    {
     "data": {
      "text/plain": [
       "True"
      ]
     },
     "execution_count": 3,
     "metadata": {},
     "output_type": "execute_result"
    }
   ],
   "source": [
    "s=\"123456\"\n",
    "s.isdigit()"
   ]
  },
  {
   "cell_type": "markdown",
   "id": "3f265407-e0c7-4939-adf4-fa8ec93077b5",
   "metadata": {},
   "source": [
    "### 39. Check if a string contains only alphabets."
   ]
  },
  {
   "cell_type": "code",
   "execution_count": 186,
   "id": "631c589b-3f1e-4700-8c88-d2991c2d2975",
   "metadata": {},
   "outputs": [
    {
     "data": {
      "text/plain": [
       "True"
      ]
     },
     "execution_count": 186,
     "metadata": {},
     "output_type": "execute_result"
    }
   ],
   "source": [
    "s=\"abcHhsjish\"\n",
    "s.isalpha()"
   ]
  },
  {
   "cell_type": "markdown",
   "id": "b9605312-066c-4d84-bb38-73b46a2c6f59",
   "metadata": {},
   "source": [
    "### 40. Convert a string to a list of characters."
   ]
  },
  {
   "cell_type": "code",
   "execution_count": 8,
   "id": "3e5a0421-92c3-4876-9465-0966dc71a262",
   "metadata": {},
   "outputs": [
    {
     "data": {
      "text/plain": [
       "['r', 'a', 'c', 'h', 'i', 't']"
      ]
     },
     "execution_count": 8,
     "metadata": {},
     "output_type": "execute_result"
    }
   ],
   "source": [
    "s=\"rachit\"\n",
    "s=list(s)\n",
    "s"
   ]
  },
  {
   "cell_type": "markdown",
   "id": "c0d1ac4a-0ded-48b1-8d05-5ea143220d2a",
   "metadata": {},
   "source": [
    "### 41. Check if two strings are anagrams."
   ]
  },
  {
   "cell_type": "code",
   "execution_count": 14,
   "id": "288d4a40-9ec5-4227-aaea-598bdd5b39f6",
   "metadata": {},
   "outputs": [
    {
     "name": "stdout",
     "output_type": "stream",
     "text": [
      "anagrams\n"
     ]
    }
   ],
   "source": [
    "x=\"state\"\n",
    "y=\"taste\"\n",
    "x=set(x)\n",
    "y=set(y)\n",
    "if x.issubset(y) == True:\n",
    "    print(\"anagrams\")\n",
    "else:\n",
    "    print(\"not anagrams\")\n"
   ]
  },
  {
   "cell_type": "markdown",
   "id": "56113101-6d56-4679-ab29-a0708e05a7f8",
   "metadata": {},
   "source": [
    "### 42. Encode a string using a Caesar cipher."
   ]
  },
  {
   "cell_type": "code",
   "execution_count": 8,
   "id": "de220e5a-0699-49dd-95c3-4e0a2582f5cc",
   "metadata": {},
   "outputs": [
    {
     "name": "stdout",
     "output_type": "stream",
     "text": [
      "Encoded text: ehoor, zruog!\n"
     ]
    }
   ],
   "source": [
    "def caesar_cipher(text, shift):\n",
    " \n",
    "\n",
    "  \n",
    "  encoded_text = \"\"\n",
    "\n",
    " \n",
    "  for char in text:\n",
    "    \n",
    "    if char.isalpha():\n",
    "     \n",
    "      encoded_char = chr((ord(char) + shift - ord('a')) % 26 + ord('a'))\n",
    "    else:\n",
    "     \n",
    "      encoded_char = char\n",
    "\n",
    "    \n",
    "    encoded_text += encoded_char\n",
    "\n",
    "  \n",
    "  return encoded_text\n",
    "\n",
    "\n",
    "text = \"Hello, world!\"\n",
    "shift = 3\n",
    "\n",
    "\n",
    "encoded_text = caesar_cipher(text, shift)\n",
    "\n",
    "\n",
    "print(\"Encoded text:\", encoded_text)"
   ]
  },
  {
   "cell_type": "markdown",
   "id": "7ac5b530-57a7-422a-b248-fbac7430e5dd",
   "metadata": {},
   "source": [
    "### 43. Decode a Caesar cipher encoded string."
   ]
  },
  {
   "cell_type": "code",
   "execution_count": 10,
   "id": "05a8addb-98a8-4c6c-b685-8948b761c6f0",
   "metadata": {},
   "outputs": [
    {
     "name": "stdout",
     "output_type": "stream",
     "text": [
      "Decoded text: ilmm, world!\n"
     ]
    }
   ],
   "source": [
    "def caesar_cipher_decoder(text, shift):\n",
    "    \n",
    "\n",
    "   \n",
    "    decoded_text = \"\"\n",
    "\n",
    "    \n",
    "    for char in text:\n",
    "        \n",
    "        if char.isalpha():\n",
    "           \n",
    "            decoded_char = chr((ord(char) - shift - ord('a')) % 26 + ord('a'))\n",
    "        else:\n",
    "           \n",
    "            decoded_char = char\n",
    "\n",
    "       \n",
    "        decoded_text += decoded_char\n",
    "\n",
    "   \n",
    "    return decoded_text\n",
    "\n",
    "\n",
    "text = \"lopp, zruog!\"\n",
    "shift = 3\n",
    "\n",
    "\n",
    "decoded_text = caesar_cipher_decoder(text, shift)\n",
    "\n",
    "\n",
    "print(\"Decoded text:\", decoded_text)"
   ]
  },
  {
   "cell_type": "markdown",
   "id": "9660b154-dc2b-4681-82b9-35c3278b7d9f",
   "metadata": {},
   "source": [
    "### 44. Find the most frequent word in a string."
   ]
  },
  {
   "cell_type": "code",
   "execution_count": 14,
   "id": "3548629f-e3f6-454a-930b-bca05aecf53f",
   "metadata": {},
   "outputs": [
    {
     "name": "stdout",
     "output_type": "stream",
     "text": [
      "Most frequent word: hello\n"
     ]
    }
   ],
   "source": [
    "import re\n",
    "from collections import Counter\n",
    "\n",
    "def most_frequent_word(input_string):\n",
    "   \n",
    "    clean_string = re.sub(r'[^\\w\\s]', '', input_string).lower()\n",
    "\n",
    "    \n",
    "    words = clean_string.split()\n",
    "\n",
    "    \n",
    "    word_counter = Counter(words)\n",
    "\n",
    "    \n",
    "    most_common_word = word_counter.most_common(1)[0][0]\n",
    "\n",
    "\n",
    "\n",
    "\n",
    "    return most_common_word\n",
    "\n",
    "\n",
    "input_str = \"Hello world, hello there! How's the world?\"\n",
    "\n",
    "\n",
    "most_common = most_frequent_word(input_str)\n",
    "\n",
    "\n",
    "print(\"Most frequent word:\", most_common)"
   ]
  },
  {
   "cell_type": "markdown",
   "id": "591e1060-7b11-48c2-bc42-a0b19e2f0810",
   "metadata": {},
   "source": [
    "### 45. Find all unique words in a string."
   ]
  },
  {
   "cell_type": "code",
   "execution_count": 6,
   "id": "d31cab84-bcd3-4192-a10a-9fa96a4a9593",
   "metadata": {
    "tags": []
   },
   "outputs": [
    {
     "name": "stdout",
     "output_type": "stream",
     "text": [
      "a\n",
      "geeks\n",
      "for\n",
      "is\n",
      "wesite\n"
     ]
    }
   ],
   "source": [
    "s=\"geeks for geeks is a wesite\"\n",
    "s=s.split()\n",
    "s=set(s)\n",
    "s=list(s)\n",
    "\n",
    "for i in s:\n",
    "    print(i)\n"
   ]
  },
  {
   "cell_type": "markdown",
   "id": "9e6ad9d4-e02d-40a4-8763-50b581d6e9d0",
   "metadata": {},
   "source": [
    "### 46. Count the number of syllables in a string."
   ]
  },
  {
   "cell_type": "code",
   "execution_count": 6,
   "id": "e5bc5e3f-9d41-407e-85d8-6fe1f0475f60",
   "metadata": {},
   "outputs": [
    {
     "data": {
      "text/plain": [
       "10"
      ]
     },
     "execution_count": 6,
     "metadata": {},
     "output_type": "execute_result"
    }
   ],
   "source": [
    "s=\"aeiouaaaaattt\"\n",
    "s.lower()\n",
    "s.count(\"a\")+s.count(\"e\")+s.count(\"i\")+s.count(\"o\")+s.count(\"u\")"
   ]
  },
  {
   "cell_type": "markdown",
   "id": "cfa0e1be-7fcc-4237-bd25-50079a03328e",
   "metadata": {},
   "source": [
    "### 47. Check if a string contains any special characters."
   ]
  },
  {
   "cell_type": "code",
   "execution_count": 7,
   "id": "d8e8a6b4-135c-41a1-a656-2292a3ae5b9d",
   "metadata": {},
   "outputs": [
    {
     "name": "stdout",
     "output_type": "stream",
     "text": [
      "contains special character\n"
     ]
    }
   ],
   "source": [
    "n = \"Geeks$For$Geeks\"\n",
    "n.split()\n",
    "c = 0\n",
    "s = '[@_!#$%^&*()<>?/\\|}{~:]'  \n",
    "for i in range(len(n)):\n",
    "\n",
    "    if n[i] in s:\n",
    "        c += 1   \n",
    "if c>0:\n",
    "    print(\"contains special character\")\n",
    "else:\n",
    "    print(\"cannot contains special character\")"
   ]
  },
  {
   "cell_type": "markdown",
   "id": "b83dcaca-1d69-47bc-8907-7a6d64140a60",
   "metadata": {},
   "source": [
    "### 48. Remove the nth word from a string."
   ]
  },
  {
   "cell_type": "code",
   "execution_count": 63,
   "id": "7650eaea-6c31-466e-ad19-ba70b93c5a18",
   "metadata": {},
   "outputs": [
    {
     "name": "stdin",
     "output_type": "stream",
     "text": [
      "enter the nth position 2\n"
     ]
    },
    {
     "data": {
      "text/plain": [
       "'rahit'"
      ]
     },
     "execution_count": 63,
     "metadata": {},
     "output_type": "execute_result"
    }
   ],
   "source": [
    "s=\"rachit\"\n",
    "s=list(s)\n",
    "s1=\"\"\n",
    "n=int(input(\"enter the nth position\"))\n",
    "\n",
    "s.pop(n)\n",
    "s\n",
    "for i in s:\n",
    "    s1=s1+\"\".join(i)\n",
    "s1    \n",
    "  "
   ]
  },
  {
   "cell_type": "markdown",
   "id": "51ece211-2a90-4438-9220-7067f882e0b6",
   "metadata": {},
   "source": [
    "### 49. Insert a word at the nth position in a string."
   ]
  },
  {
   "cell_type": "code",
   "execution_count": 59,
   "id": "9207470c-31b3-4f96-9938-3d41364cad60",
   "metadata": {},
   "outputs": [
    {
     "name": "stdin",
     "output_type": "stream",
     "text": [
      "enter the nth position 2\n",
      "enter the word rachit\n"
     ]
    },
    {
     "data": {
      "text/plain": [
       "'rarachitchit'"
      ]
     },
     "execution_count": 59,
     "metadata": {},
     "output_type": "execute_result"
    }
   ],
   "source": [
    "s=\"rachit\"\n",
    "s=list(s)\n",
    "s1=\"\"\n",
    "n=int(input(\"enter the nth position\"))\n",
    "w=input(\"enter the word\")\n",
    "s.insert(n,w)\n",
    "s\n",
    "for i in s:\n",
    "    s1=s1+\"\".join(i)\n",
    "s1    \n",
    "    "
   ]
  },
  {
   "cell_type": "markdown",
   "id": "fb0d3cd4-afab-49ae-bd0f-af5761c36f71",
   "metadata": {},
   "source": [
    "### 50. Convert a CSV string to a list of lists."
   ]
  },
  {
   "cell_type": "code",
   "execution_count": 15,
   "id": "cf256d8c-955b-4270-a6bb-bfac5032f389",
   "metadata": {},
   "outputs": [
    {
     "name": "stdout",
     "output_type": "stream",
     "text": [
      "['Name', ' Age', ' Country']\n",
      "['John', ' 25', ' USA']\n",
      "['Alice', ' 30', ' Canada']\n",
      "['Bob', ' 22', ' UK']\n"
     ]
    }
   ],
   "source": [
    "def csv_string_to_list(csv_string):\n",
    "   \n",
    "    lines = csv_string.split('\\n')\n",
    "\n",
    "   \n",
    "    result = []\n",
    "\n",
    "    for line in lines:\n",
    "        \n",
    "        fields = line.split(',')\n",
    "\n",
    "        \n",
    "        result.append(fields)\n",
    "\n",
    "    return result\n",
    "\n",
    "\n",
    "csv_data = \"Name, Age, Country\\nJohn, 25, USA\\nAlice, 30, Canada\\nBob, 22, UK\"\n",
    "\n",
    "\n",
    "list_of_lists = csv_string_to_list(csv_data)\n",
    "\n",
    "\n",
    "for row in list_of_lists:\n",
    "    print(row)"
   ]
  },
  {
   "cell_type": "markdown",
   "id": "458fbab6-626c-495f-87cc-cc45578e682e",
   "metadata": {},
   "source": [
    "## List Based Practice Problem :"
   ]
  },
  {
   "cell_type": "markdown",
   "id": "e6dabc14-6ce7-45a4-8cec-a03c6776227f",
   "metadata": {},
   "source": [
    "### 1. Create a list with integers from 1 to 10."
   ]
  },
  {
   "cell_type": "code",
   "execution_count": 14,
   "id": "59e02aa3-e634-4ed4-8776-d29264bb5f77",
   "metadata": {},
   "outputs": [
    {
     "data": {
      "text/plain": [
       "[1, 2, 3, 4, 5, 6, 7, 8, 9, 10]"
      ]
     },
     "execution_count": 14,
     "metadata": {},
     "output_type": "execute_result"
    }
   ],
   "source": [
    "[i for i in range(1,11)]"
   ]
  },
  {
   "cell_type": "markdown",
   "id": "91a973e9-3e99-46e8-85d5-82eaaf9bfcf5",
   "metadata": {},
   "source": [
    "### 2. Find the length of a list without using the `len()` function."
   ]
  },
  {
   "cell_type": "code",
   "execution_count": 58,
   "id": "2ba2ee5a-f972-43c3-a3e4-beac7fd4a940",
   "metadata": {},
   "outputs": [
    {
     "name": "stdout",
     "output_type": "stream",
     "text": [
      "5\n"
     ]
    }
   ],
   "source": [
    "l=[1,2,3,4,5]\n",
    "c=0\n",
    "for i in l:\n",
    "    c=c+1\n",
    "print(c)    "
   ]
  },
  {
   "cell_type": "markdown",
   "id": "95149258-a980-4687-bbc7-8fdb0cfdf2be",
   "metadata": {},
   "source": [
    "### 3. Append an element to the end of a list."
   ]
  },
  {
   "cell_type": "code",
   "execution_count": 21,
   "id": "5014f2e4-1c87-4f5b-82cb-5a3448a28d33",
   "metadata": {},
   "outputs": [],
   "source": [
    "l=[1,2,3]\n",
    "l.append(4)"
   ]
  },
  {
   "cell_type": "code",
   "execution_count": 22,
   "id": "9f5ef05d-1ac4-4b03-b081-9c12803d44ef",
   "metadata": {},
   "outputs": [
    {
     "data": {
      "text/plain": [
       "[1, 2, 3, 4]"
      ]
     },
     "execution_count": 22,
     "metadata": {},
     "output_type": "execute_result"
    }
   ],
   "source": [
    "l"
   ]
  },
  {
   "cell_type": "markdown",
   "id": "6458dff2-e184-49d5-aee8-06e73f07601c",
   "metadata": {},
   "source": [
    "### 4. Insert an element at a specific index in a list."
   ]
  },
  {
   "cell_type": "code",
   "execution_count": 2,
   "id": "86e2d872-2e57-4e65-acd8-115677d50832",
   "metadata": {},
   "outputs": [
    {
     "name": "stdin",
     "output_type": "stream",
     "text": [
      "enter the index 0\n",
      "enter the  number 12\n"
     ]
    },
    {
     "data": {
      "text/plain": [
       "[12, 1, 2, 3]"
      ]
     },
     "execution_count": 2,
     "metadata": {},
     "output_type": "execute_result"
    }
   ],
   "source": [
    "l=[1,2,3]\n",
    "index = int(input(\"enter the index\"))\n",
    "n = int(input(\"enter the  number\"))\n",
    "l.insert(index,n)\n",
    "\n",
    "l"
   ]
  },
  {
   "cell_type": "markdown",
   "id": "6e9c7000-fd1d-46ac-9b10-abd3b3e3bcc0",
   "metadata": {},
   "source": [
    "### 5. Remove an element from a list by its value."
   ]
  },
  {
   "cell_type": "code",
   "execution_count": 1,
   "id": "c8b29cd8-51db-4116-9014-163e7ebb22e6",
   "metadata": {},
   "outputs": [
    {
     "name": "stdin",
     "output_type": "stream",
     "text": [
      "enter the number 3\n"
     ]
    },
    {
     "data": {
      "text/plain": [
       "[1, 2, 4, 5]"
      ]
     },
     "execution_count": 1,
     "metadata": {},
     "output_type": "execute_result"
    }
   ],
   "source": [
    "l = [1,2,3,4,5]\n",
    "n=int(input(\"enter the number\"))\n",
    "l.remove(n)\n",
    "l"
   ]
  },
  {
   "cell_type": "markdown",
   "id": "56489064-8b22-4bfd-814e-569e618d120d",
   "metadata": {},
   "source": [
    "### 6. Remove an element from a list by its index."
   ]
  },
  {
   "cell_type": "code",
   "execution_count": 1,
   "id": "00142b41-32dc-43d4-a99f-16dbb62cf955",
   "metadata": {},
   "outputs": [
    {
     "name": "stdin",
     "output_type": "stream",
     "text": [
      "enter the index 1\n"
     ]
    },
    {
     "data": {
      "text/plain": [
       "[1, 3, 4, 5]"
      ]
     },
     "execution_count": 1,
     "metadata": {},
     "output_type": "execute_result"
    }
   ],
   "source": [
    "l = [1,2,3,4,5]\n",
    "n=int(input(\"enter the index\"))\n",
    "l.pop(n)\n",
    "l"
   ]
  },
  {
   "cell_type": "markdown",
   "id": "ed748685-0dbc-4ad5-8a28-2c8bd6d570de",
   "metadata": {},
   "source": [
    "### 7. Check if an element exists in a list."
   ]
  },
  {
   "cell_type": "code",
   "execution_count": 3,
   "id": "08d713d0-6966-415d-9ec7-e4c3e227a44d",
   "metadata": {},
   "outputs": [
    {
     "name": "stdin",
     "output_type": "stream",
     "text": [
      "enter the number 6\n"
     ]
    },
    {
     "name": "stdout",
     "output_type": "stream",
     "text": [
      "not found\n"
     ]
    }
   ],
   "source": [
    "n = int(input(\"enter the number\"))\n",
    "l=[1,2,3,4,5]\n",
    "count=False\n",
    "for i in l:\n",
    "    if i==n:\n",
    "        count=True\n",
    "if count==True:\n",
    "    print(\"found\")\n",
    "else:\n",
    "    print(\"not found\")"
   ]
  },
  {
   "cell_type": "markdown",
   "id": "9110d395-0536-438c-aadf-0b9df147aa59",
   "metadata": {},
   "source": [
    "### 8. Find the index of the first occurrence of an element in a list."
   ]
  },
  {
   "cell_type": "code",
   "execution_count": 4,
   "id": "f1448f50-8570-4366-85c6-477e3805b540",
   "metadata": {},
   "outputs": [
    {
     "name": "stdin",
     "output_type": "stream",
     "text": [
      "Enter the index 3\n"
     ]
    },
    {
     "data": {
      "text/plain": [
       "2"
      ]
     },
     "execution_count": 4,
     "metadata": {},
     "output_type": "execute_result"
    }
   ],
   "source": [
    "n = int(input(\"Enter the index\"))\n",
    "l = [1,2,3,4,5]\n",
    "l.index(n)"
   ]
  },
  {
   "cell_type": "markdown",
   "id": "67b48915-3afd-47c4-b589-d0fd681aa52b",
   "metadata": {},
   "source": [
    "### 9. Count the occurrences of an element in a list."
   ]
  },
  {
   "cell_type": "code",
   "execution_count": 6,
   "id": "865509ee-bb07-4a52-92f6-19a415da8a23",
   "metadata": {},
   "outputs": [
    {
     "name": "stdin",
     "output_type": "stream",
     "text": [
      "Enter the number 3\n"
     ]
    },
    {
     "data": {
      "text/plain": [
       "2"
      ]
     },
     "execution_count": 6,
     "metadata": {},
     "output_type": "execute_result"
    }
   ],
   "source": [
    "n = int(input(\"Enter the number\"))\n",
    "l = [1,2,3,3,4,5]\n",
    "l.count(n)"
   ]
  },
  {
   "cell_type": "markdown",
   "id": "2b9cc068-dd32-4803-97e9-df8b0f6f8754",
   "metadata": {},
   "source": [
    "### 10. Reverse the order of elements in a list."
   ]
  },
  {
   "cell_type": "code",
   "execution_count": 9,
   "id": "0d1614ed-d3e7-4e42-8c36-e89c698bde3f",
   "metadata": {},
   "outputs": [
    {
     "data": {
      "text/plain": [
       "[5, 4, 3, 3, 2, 1]"
      ]
     },
     "execution_count": 9,
     "metadata": {},
     "output_type": "execute_result"
    }
   ],
   "source": [
    "l = [1,2,3,3,4,5]\n",
    "l.reverse()\n",
    "l"
   ]
  },
  {
   "cell_type": "markdown",
   "id": "f7dc92d7-467f-42d0-aa9d-fd71e062abe3",
   "metadata": {},
   "source": [
    "### 11. Sort a list in ascending order."
   ]
  },
  {
   "cell_type": "code",
   "execution_count": 10,
   "id": "86bc1d85-6021-46c6-994c-e9437737eadc",
   "metadata": {},
   "outputs": [
    {
     "data": {
      "text/plain": [
       "[1, 4, 5, 6, 7, 8, 9]"
      ]
     },
     "execution_count": 10,
     "metadata": {},
     "output_type": "execute_result"
    }
   ],
   "source": [
    "l =[1,5,6,4,8,9,7]\n",
    "l.sort()\n",
    "l"
   ]
  },
  {
   "cell_type": "markdown",
   "id": "205cc6f8-8734-4987-8028-c5fd725bc980",
   "metadata": {},
   "source": [
    "### 12. Sort a list in descending order."
   ]
  },
  {
   "cell_type": "code",
   "execution_count": 11,
   "id": "0e41d7c3-978b-415b-abc8-97bd407245d0",
   "metadata": {},
   "outputs": [
    {
     "data": {
      "text/plain": [
       "[9, 8, 7, 6, 5, 4, 1]"
      ]
     },
     "execution_count": 11,
     "metadata": {},
     "output_type": "execute_result"
    }
   ],
   "source": [
    "l =[1,5,6,4,8,9,7]\n",
    "l.sort(reverse=True)\n",
    "l"
   ]
  },
  {
   "cell_type": "markdown",
   "id": "9de53a9a-eba7-4afe-bb5c-c33c213ea3ba",
   "metadata": {},
   "source": [
    "### 13. Create a list of even numbers from 1 to 20."
   ]
  },
  {
   "cell_type": "code",
   "execution_count": 12,
   "id": "7bff88b4-3e43-4167-9fa2-a300da546723",
   "metadata": {},
   "outputs": [
    {
     "data": {
      "text/plain": [
       "[2, 4, 6, 8, 10, 12, 14, 16, 18, 20]"
      ]
     },
     "execution_count": 12,
     "metadata": {},
     "output_type": "execute_result"
    }
   ],
   "source": [
    "[i  for i in range(1,21) if i%2==0]"
   ]
  },
  {
   "cell_type": "markdown",
   "id": "6118b3cd-6fd0-4acf-ad2d-d287088a82d4",
   "metadata": {},
   "source": [
    "### 14. Create a list of odd numbers from 1 to 20."
   ]
  },
  {
   "cell_type": "code",
   "execution_count": 13,
   "id": "55aa04c7-8638-40f5-bd81-eeabc1ad69d9",
   "metadata": {},
   "outputs": [
    {
     "data": {
      "text/plain": [
       "[1, 3, 5, 7, 9, 11, 13, 15, 17, 19]"
      ]
     },
     "execution_count": 13,
     "metadata": {},
     "output_type": "execute_result"
    }
   ],
   "source": [
    "[i  for i in range(1,21) if i%2!=0]"
   ]
  },
  {
   "cell_type": "markdown",
   "id": "d39c5c7a-92aa-48e4-9bec-caafd0f9ce44",
   "metadata": {},
   "source": [
    "### 15. Find the sum of all elements in a list."
   ]
  },
  {
   "cell_type": "code",
   "execution_count": 15,
   "id": "11da3036-9a50-47fa-8172-73b194b3813c",
   "metadata": {},
   "outputs": [
    {
     "name": "stdout",
     "output_type": "stream",
     "text": [
      "21\n"
     ]
    }
   ],
   "source": [
    "l= [1,2,3,4,5,6]\n",
    "s=0\n",
    "for i  in l:\n",
    "    s= s+i\n",
    "print(s)    "
   ]
  },
  {
   "cell_type": "markdown",
   "id": "ae9f5da3-96c7-464d-a197-958652fbad79",
   "metadata": {},
   "source": [
    "### 16. Find the maximum value in a list."
   ]
  },
  {
   "cell_type": "code",
   "execution_count": 97,
   "id": "d2808f4b-6798-4a2d-8afd-018ca3167d0b",
   "metadata": {},
   "outputs": [],
   "source": [
    "from functools import reduce"
   ]
  },
  {
   "cell_type": "code",
   "execution_count": 98,
   "id": "b4dd850d-b08b-4a41-a1b5-9cc40ef4e4b2",
   "metadata": {},
   "outputs": [
    {
     "data": {
      "text/plain": [
       "8"
      ]
     },
     "execution_count": 98,
     "metadata": {},
     "output_type": "execute_result"
    }
   ],
   "source": [
    "l=[1,2,6,8,2]\n",
    "reduce(lambda x,y:x if x>y else y,l)\n"
   ]
  },
  {
   "cell_type": "markdown",
   "id": "22f53845-b70e-422f-aca6-1d60352f7a0d",
   "metadata": {},
   "source": [
    "### 17. Find the minimum value in a list."
   ]
  },
  {
   "cell_type": "code",
   "execution_count": 99,
   "id": "aca8fea6-e939-415a-9ea8-2ac023e9727a",
   "metadata": {},
   "outputs": [
    {
     "data": {
      "text/plain": [
       "1"
      ]
     },
     "execution_count": 99,
     "metadata": {},
     "output_type": "execute_result"
    }
   ],
   "source": [
    "l=[1,2,6,8,2]\n",
    "reduce(lambda x,y:x if x<y else y,l)"
   ]
  },
  {
   "cell_type": "markdown",
   "id": "0ae3f351-27da-455c-a1c7-e85936e22f44",
   "metadata": {},
   "source": [
    "### 18. Create a list of squares of numbers from 1 to 10."
   ]
  },
  {
   "cell_type": "code",
   "execution_count": 100,
   "id": "ff9f7b54-f6db-42d7-ac74-bc1d9780f594",
   "metadata": {},
   "outputs": [
    {
     "data": {
      "text/plain": [
       "[1, 4, 9, 16, 25, 36, 49, 64, 81, 100]"
      ]
     },
     "execution_count": 100,
     "metadata": {},
     "output_type": "execute_result"
    }
   ],
   "source": [
    "[i**2 for i in range(1,11)]"
   ]
  },
  {
   "cell_type": "markdown",
   "id": "59dd91ef-3123-4c79-aa08-4bcb1434813e",
   "metadata": {},
   "source": [
    "### 19. Create a list of random numbers."
   ]
  },
  {
   "cell_type": "code",
   "execution_count": 60,
   "id": "f67d6dd3-5135-42b1-97f9-4358498ff40a",
   "metadata": {},
   "outputs": [],
   "source": [
    "import random"
   ]
  },
  {
   "cell_type": "code",
   "execution_count": 61,
   "id": "9fec003e-3759-41eb-8e6c-d35f0d2c4c4f",
   "metadata": {},
   "outputs": [
    {
     "data": {
      "text/plain": [
       "[64, 57, 64, 97, 89, 17, 77, 1, 47, 75]"
      ]
     },
     "execution_count": 61,
     "metadata": {},
     "output_type": "execute_result"
    }
   ],
   "source": [
    "[random.randint(1,100) for i in range(10)]"
   ]
  },
  {
   "cell_type": "markdown",
   "id": "0a3683ee-7ac0-4d95-a995-30a21f1f53f8",
   "metadata": {},
   "source": [
    "### 20. Remove duplicates from a list."
   ]
  },
  {
   "cell_type": "code",
   "execution_count": 103,
   "id": "8e9d285c-a492-4d51-a164-f03c2525e276",
   "metadata": {},
   "outputs": [
    {
     "data": {
      "text/plain": [
       "[1, 2, 5, 6, 8]"
      ]
     },
     "execution_count": 103,
     "metadata": {},
     "output_type": "execute_result"
    }
   ],
   "source": [
    "l =[1,2,2,2,5,6,8]\n",
    "l=set(l)\n",
    "l=list(l)\n",
    "l"
   ]
  },
  {
   "cell_type": "markdown",
   "id": "0220ddd4-618a-4996-aa8c-bbf16d926aff",
   "metadata": {},
   "source": [
    "### 21. Find the common elements between two lists."
   ]
  },
  {
   "cell_type": "code",
   "execution_count": 108,
   "id": "151276a1-ca93-4f54-b05b-2e195a0f6b1c",
   "metadata": {},
   "outputs": [
    {
     "data": {
      "text/plain": [
       "[2, 3]"
      ]
     },
     "execution_count": 108,
     "metadata": {},
     "output_type": "execute_result"
    }
   ],
   "source": [
    "x=[1,2,3]\n",
    "y=[2,3,4]\n",
    "x=set(x)\n",
    "y=set(y)\n",
    "z=x.intersection(y)\n",
    "z=list(z)\n",
    "z"
   ]
  },
  {
   "cell_type": "markdown",
   "id": "4b1f2574-8382-4146-9d03-fa4f4e1cb457",
   "metadata": {},
   "source": [
    "### 22. Find the difference between two lists."
   ]
  },
  {
   "cell_type": "code",
   "execution_count": 109,
   "id": "8c5b1f37-f1ae-4e28-a5c5-7636c234d5a0",
   "metadata": {},
   "outputs": [
    {
     "data": {
      "text/plain": [
       "[1]"
      ]
     },
     "execution_count": 109,
     "metadata": {},
     "output_type": "execute_result"
    }
   ],
   "source": [
    "x=[1,2,3]\n",
    "y=[2,3,4]\n",
    "x=set(x)\n",
    "y=set(y)\n",
    "z=x.difference(y)\n",
    "z=list(z)\n",
    "z"
   ]
  },
  {
   "cell_type": "markdown",
   "id": "bd3550be-c2a8-4796-9e08-f58368f1a7da",
   "metadata": {},
   "source": [
    "### 23. Merge two lists."
   ]
  },
  {
   "cell_type": "code",
   "execution_count": 110,
   "id": "97cd3e35-390e-458a-86ff-13a6f9dc6aee",
   "metadata": {},
   "outputs": [
    {
     "data": {
      "text/plain": [
       "[1, 2, 3, 2, 3, 4]"
      ]
     },
     "execution_count": 110,
     "metadata": {},
     "output_type": "execute_result"
    }
   ],
   "source": [
    "x=[1,2,3]\n",
    "y=[2,3,4]\n",
    "x=x+y\n",
    "x"
   ]
  },
  {
   "cell_type": "markdown",
   "id": "4b738079-7715-46ab-bd9f-74683cc69888",
   "metadata": {},
   "source": [
    "### 24. Multiply all elements in a list by 2."
   ]
  },
  {
   "cell_type": "code",
   "execution_count": 111,
   "id": "4b911a0e-dee2-4c17-87e4-3b99e0d8ef98",
   "metadata": {},
   "outputs": [
    {
     "data": {
      "text/plain": [
       "[2, 4, 6, 8, 10, 12]"
      ]
     },
     "execution_count": 111,
     "metadata": {},
     "output_type": "execute_result"
    }
   ],
   "source": [
    "l=[1,2,3,4,5,6]\n",
    "list(map(lambda x:x*2,l))"
   ]
  },
  {
   "cell_type": "markdown",
   "id": "63d5c78e-4613-4745-990b-e8ac1a97d418",
   "metadata": {},
   "source": [
    "### 25. Filter out all even numbers from a list."
   ]
  },
  {
   "cell_type": "code",
   "execution_count": 112,
   "id": "8ed431fb-38e1-4d9e-bc60-671883848fd9",
   "metadata": {},
   "outputs": [
    {
     "data": {
      "text/plain": [
       "[2, 4, 6]"
      ]
     },
     "execution_count": 112,
     "metadata": {},
     "output_type": "execute_result"
    }
   ],
   "source": [
    "list(filter(lambda x:x%2==0,l) )"
   ]
  },
  {
   "cell_type": "markdown",
   "id": "faf6022c-e685-463c-af8b-b7523c72a806",
   "metadata": {},
   "source": [
    "### 26. Convert a list of strings to a list of integers."
   ]
  },
  {
   "cell_type": "code",
   "execution_count": 62,
   "id": "0c46e003-b7d3-4e00-805c-df21b29dba34",
   "metadata": {},
   "outputs": [
    {
     "data": {
      "text/plain": [
       "[1, 8, 9]"
      ]
     },
     "execution_count": 62,
     "metadata": {},
     "output_type": "execute_result"
    }
   ],
   "source": [
    "l=[\"1\",\"8\",\"9\"]\n",
    "list(map(int,l))"
   ]
  },
  {
   "cell_type": "markdown",
   "id": "4799b348-1e1a-48c2-a05e-aa2eec9c8157",
   "metadata": {},
   "source": [
    "### 27. Convert a list of integers to a list of strings."
   ]
  },
  {
   "cell_type": "code",
   "execution_count": 63,
   "id": "bcbbc8ea-7f9e-4f1d-a7db-7f2f377c6fe0",
   "metadata": {},
   "outputs": [
    {
     "data": {
      "text/plain": [
       "['1', '2', '3', '4', '5', '6']"
      ]
     },
     "execution_count": 63,
     "metadata": {},
     "output_type": "execute_result"
    }
   ],
   "source": [
    "l=[1,2,3,4,5,6]\n",
    "list(map(str,l))"
   ]
  },
  {
   "cell_type": "markdown",
   "id": "ee6746a9-da57-4193-97b0-577650af1130",
   "metadata": {},
   "source": [
    "### 28. Flatten a nested list."
   ]
  },
  {
   "cell_type": "code",
   "execution_count": 1,
   "id": "c23d6c84-3744-4bcc-84ae-6386c73215ec",
   "metadata": {},
   "outputs": [
    {
     "data": {
      "text/plain": [
       "[1, 2, 3, 4, 5, 6, 7, 8, 9]"
      ]
     },
     "execution_count": 1,
     "metadata": {},
     "output_type": "execute_result"
    }
   ],
   "source": [
    "l=[[1],[2,3],[4,5,6,7],[8,9]]\n",
    "l1=[]\n",
    "for i in l:\n",
    "    if type(i)==list:\n",
    "        for j in i:\n",
    "            l1.append(j)\n",
    "l1   \n",
    "        \n"
   ]
  },
  {
   "cell_type": "markdown",
   "id": "71ef7f1a-7f00-4a7f-bf24-5f82c28e9152",
   "metadata": {},
   "source": [
    "### 29. Create a list of the first 10 Fibonacci numbers."
   ]
  },
  {
   "cell_type": "code",
   "execution_count": 113,
   "id": "888eb03a-45fc-4645-a77b-fa92416c905c",
   "metadata": {},
   "outputs": [
    {
     "name": "stdout",
     "output_type": "stream",
     "text": [
      "0\n",
      "1\n",
      "1\n",
      "2\n",
      "3\n",
      "5\n",
      "8\n",
      "13\n",
      "21\n",
      "34\n",
      "55\n"
     ]
    }
   ],
   "source": [
    "a,b=0,1\n",
    "for i in range(11):\n",
    "    c=a+b\n",
    "    print(a)\n",
    "    a,b=b,c"
   ]
  },
  {
   "cell_type": "markdown",
   "id": "9bdc6318-1f18-46fd-a748-d486ffcfca8d",
   "metadata": {},
   "source": [
    "### 30. Check if a list is sorted."
   ]
  },
  {
   "cell_type": "code",
   "execution_count": 82,
   "id": "cb390367-092b-43d3-a462-1ceeb4174274",
   "metadata": {},
   "outputs": [
    {
     "name": "stdout",
     "output_type": "stream",
     "text": [
      "unsorted\n"
     ]
    }
   ],
   "source": [
    "l=[1,9,4,5,7,8]\n",
    "l1=l[:]\n",
    "l1.sort()\n",
    "if l==l1:\n",
    "    print(\"sorted\")\n",
    "else:\n",
    "    print(\"unsorted\")"
   ]
  },
  {
   "cell_type": "markdown",
   "id": "e5acd315-48b4-42cd-a9e3-757a7511ed3d",
   "metadata": {},
   "source": [
    "### 31. Rotate a list to the left by `n` positions."
   ]
  },
  {
   "cell_type": "code",
   "execution_count": 94,
   "id": "a9426f0a-ee75-4105-b894-0a38f056ef07",
   "metadata": {},
   "outputs": [
    {
     "name": "stdin",
     "output_type": "stream",
     "text": [
      "enter the rotation 3\n"
     ]
    },
    {
     "data": {
      "text/plain": [
       "[8, 9, 4, 6, 2, 1, 2, 3]"
      ]
     },
     "execution_count": 94,
     "metadata": {},
     "output_type": "execute_result"
    }
   ],
   "source": [
    "l=[1,2,3,8,9,4,6,2]\n",
    "n=int(input(\"enter the rotation\"))\n",
    "l=l[n:]+l[:n]\n",
    "l"
   ]
  },
  {
   "cell_type": "markdown",
   "id": "e9442ee4-36af-4a34-a5a7-147c9daae599",
   "metadata": {},
   "source": [
    "### 32. Rotate a list to the right by `n` positions."
   ]
  },
  {
   "cell_type": "code",
   "execution_count": 96,
   "id": "3608170e-4175-4dc7-9341-cb96a24bbb27",
   "metadata": {},
   "outputs": [
    {
     "name": "stdin",
     "output_type": "stream",
     "text": [
      "enter the rotation 3\n"
     ]
    },
    {
     "data": {
      "text/plain": [
       "[1, 2, 3, 8, 9, 4, 6, 2]"
      ]
     },
     "execution_count": 96,
     "metadata": {},
     "output_type": "execute_result"
    }
   ],
   "source": [
    "l=[8,9,4,6,2,1,2,3]\n",
    "n=int(input(\"enter the rotation\"))\n",
    "l=l[-n:]+l[:-n]\n",
    "l"
   ]
  },
  {
   "cell_type": "markdown",
   "id": "4cb4a3ba-0158-4eb6-a9ab-0e5bfaa462a9",
   "metadata": {},
   "source": [
    "### 33. Create a list of prime numbers up to 50."
   ]
  },
  {
   "cell_type": "code",
   "execution_count": 99,
   "id": "2018b69b-1a57-45c9-87e1-892a993c45f1",
   "metadata": {},
   "outputs": [
    {
     "data": {
      "text/plain": [
       "[2, 3, 5, 7, 11, 13, 17, 19, 23, 29, 31, 37, 41, 43, 47]"
      ]
     },
     "execution_count": 99,
     "metadata": {},
     "output_type": "execute_result"
    }
   ],
   "source": [
    "l=[]\n",
    "for i in range(2,51):\n",
    "    c=0\n",
    "    for j in range(1,51):\n",
    "        if i%j==0:\n",
    "            c=c+1\n",
    "    if c==2:\n",
    "        l.append(i)\n",
    "l    "
   ]
  },
  {
   "cell_type": "markdown",
   "id": "ef222321-8cbb-4e7f-9bc3-018c80480cb2",
   "metadata": {},
   "source": [
    "### 34. Split a list into chunks of size `n`."
   ]
  },
  {
   "cell_type": "code",
   "execution_count": 50,
   "id": "51f970d2-8f84-4edf-bee3-e51094dbdaa8",
   "metadata": {},
   "outputs": [],
   "source": [
    "def chunks(n):\n",
    "    l=[1,2,3,4,5,6,7,8,9]\n",
    "    l1=len(l)\n",
    "    for i in range(0,l1,n):\n",
    "        yield l[i:i+n]\n",
    "    "
   ]
  },
  {
   "cell_type": "code",
   "execution_count": 51,
   "id": "8b625a75-36ec-4fb4-afe4-28c0bdb574ab",
   "metadata": {},
   "outputs": [
    {
     "data": {
      "text/plain": [
       "[[1, 2, 3], [4, 5, 6], [7, 8, 9]]"
      ]
     },
     "execution_count": 51,
     "metadata": {},
     "output_type": "execute_result"
    }
   ],
   "source": [
    "list(chunks(3))"
   ]
  },
  {
   "cell_type": "markdown",
   "id": "75e0a4dd-2b1b-4743-bc03-6ababacc5eee",
   "metadata": {},
   "source": [
    "### 35. Find the second largest number in a list."
   ]
  },
  {
   "cell_type": "code",
   "execution_count": 76,
   "id": "ee03ac7c-94ce-4b7b-86bb-fdcd976f15ce",
   "metadata": {},
   "outputs": [
    {
     "data": {
      "text/plain": [
       "8"
      ]
     },
     "execution_count": 76,
     "metadata": {},
     "output_type": "execute_result"
    }
   ],
   "source": [
    "l=[1,5,5,6,8,9,9]\n",
    "l=set(l)\n",
    "l=list(l)\n",
    "l.sort(reverse=True)\n",
    "l[1]"
   ]
  },
  {
   "cell_type": "markdown",
   "id": "0a3056cb-b08f-4d2a-a964-be8523c4d69b",
   "metadata": {},
   "source": [
    "### 36. Replace every element in a list with its square."
   ]
  },
  {
   "cell_type": "code",
   "execution_count": 128,
   "id": "37cb60f4-45b8-4c19-aa80-0a5af3c69dc2",
   "metadata": {},
   "outputs": [
    {
     "data": {
      "text/plain": [
       "[1, 4, 9, 16]"
      ]
     },
     "execution_count": 128,
     "metadata": {},
     "output_type": "execute_result"
    }
   ],
   "source": [
    "l=[1,2,3,4]\n",
    "l=list(map(lambda x:x**2,l))\n",
    "l"
   ]
  },
  {
   "cell_type": "markdown",
   "id": "090756f9-4dc2-4708-864f-968b68407e18",
   "metadata": {},
   "source": [
    "### 37. Convert a list to a dictionary where list elements become keys and their indices become values."
   ]
  },
  {
   "cell_type": "code",
   "execution_count": 53,
   "id": "4ce7a42a-8497-46d9-a2b4-87b311ebc038",
   "metadata": {},
   "outputs": [
    {
     "data": {
      "text/plain": [
       "{'rachit': 0, 'Pachauri': 1}"
      ]
     },
     "execution_count": 53,
     "metadata": {},
     "output_type": "execute_result"
    }
   ],
   "source": [
    "l=[\"rachit\",\"Pachauri\"]\n",
    "d = {l[i]: i for i in range(len(l))}\n",
    "\n",
    "\n",
    "\n",
    "d\n",
    "\n"
   ]
  },
  {
   "cell_type": "markdown",
   "id": "03e34394-53ab-4d8c-b48f-607899dff9d2",
   "metadata": {},
   "source": [
    "### 38. Shuffle the elements of a list randomly."
   ]
  },
  {
   "cell_type": "code",
   "execution_count": 2,
   "id": "81b59487-d01e-4094-8714-3031a21563b4",
   "metadata": {},
   "outputs": [],
   "source": [
    "import random"
   ]
  },
  {
   "cell_type": "code",
   "execution_count": 5,
   "id": "61f98673-3d9d-43f5-bc42-c619845d46f2",
   "metadata": {},
   "outputs": [
    {
     "data": {
      "text/plain": [
       "[6, 6, 5, 1, 3, 5, 4, 2]"
      ]
     },
     "execution_count": 5,
     "metadata": {},
     "output_type": "execute_result"
    }
   ],
   "source": [
    "l=[1,2,5,3,6,4,5,6,]\n",
    "random.shuffle(l)\n",
    "l"
   ]
  },
  {
   "cell_type": "markdown",
   "id": "c95d6801-b4aa-491b-b50f-5b2a2e7f3c2b",
   "metadata": {},
   "source": [
    "### 39. Create a list of the first 10 factorial numbers."
   ]
  },
  {
   "cell_type": "code",
   "execution_count": 130,
   "id": "7f0aa607-7175-4716-b44b-8f410ca42401",
   "metadata": {},
   "outputs": [
    {
     "name": "stdout",
     "output_type": "stream",
     "text": [
      "3628800\n"
     ]
    }
   ],
   "source": [
    "f=1\n",
    "for i in range(1,11):\n",
    "    f=f*i\n",
    "print(f)    "
   ]
  },
  {
   "cell_type": "markdown",
   "id": "351cb7e5-7b5a-4c7b-a30a-a3acd64cf37e",
   "metadata": {},
   "source": [
    "### 40. Check if two lists have at least one element in common."
   ]
  },
  {
   "cell_type": "code",
   "execution_count": 12,
   "id": "c6445cbc-ae95-4be0-91f1-a88a52672f65",
   "metadata": {},
   "outputs": [
    {
     "name": "stdout",
     "output_type": "stream",
     "text": [
      "one common\n"
     ]
    }
   ],
   "source": [
    "x=[1,2,3]\n",
    "y=[3,4,5]\n",
    "x=set(x)\n",
    "y=set(y)\n",
    "z=x.intersection(y)\n",
    "if len(z)==1:\n",
    "    print(\"one common\")\n",
    "elif len(z)==0:\n",
    "    print(\"no common element\")\n",
    "else:\n",
    "    print(\"more common element\")"
   ]
  },
  {
   "cell_type": "markdown",
   "id": "3749ea04-33c7-4589-926e-ff69765c8ed0",
   "metadata": {},
   "source": [
    "### 41. Remove all elements from a list."
   ]
  },
  {
   "cell_type": "code",
   "execution_count": 131,
   "id": "d4407cfa-389b-4bbb-aec8-84479542d636",
   "metadata": {},
   "outputs": [
    {
     "data": {
      "text/plain": [
       "[]"
      ]
     },
     "execution_count": 131,
     "metadata": {},
     "output_type": "execute_result"
    }
   ],
   "source": [
    "l=[1,4,5,6,8,9]\n",
    "l.clear()\n",
    "l"
   ]
  },
  {
   "cell_type": "markdown",
   "id": "08b95a4f-aa02-4629-93d1-065f07101d5b",
   "metadata": {},
   "source": [
    "### 42. Replace negative numbers in a list with 0."
   ]
  },
  {
   "cell_type": "code",
   "execution_count": 44,
   "id": "78faa5c7-5660-4116-afb9-3843e88b0f93",
   "metadata": {},
   "outputs": [
    {
     "data": {
      "text/plain": [
       "[0, 0, 0, 2, 5, 6]"
      ]
     },
     "execution_count": 44,
     "metadata": {},
     "output_type": "execute_result"
    }
   ],
   "source": [
    "l=[-1,-2,-5,2,5,6]\n",
    "l1=len(l)\n",
    "for i in  range(l1):\n",
    "    if l[i]<0:\n",
    "        l[i]=0\n",
    "    \n",
    "    \n",
    "l        "
   ]
  },
  {
   "cell_type": "markdown",
   "id": "99159e52-65f3-4609-99a5-5994313055d9",
   "metadata": {},
   "source": [
    "### 43. Convert a string into a list of words."
   ]
  },
  {
   "cell_type": "code",
   "execution_count": 134,
   "id": "e378dd37-1b4d-47ca-a714-60a8a7a4fbd1",
   "metadata": {},
   "outputs": [
    {
     "data": {
      "text/plain": [
       "['r', 'a', 'c', 'h', 'i', 't']"
      ]
     },
     "execution_count": 134,
     "metadata": {},
     "output_type": "execute_result"
    }
   ],
   "source": [
    "s=\"rachit\"\n",
    "s=list(s)\n",
    "s"
   ]
  },
  {
   "cell_type": "markdown",
   "id": "c7b7afc3-b947-4388-b384-ed8c5efa32f8",
   "metadata": {},
   "source": [
    "### 44. Convert a list of words into a string."
   ]
  },
  {
   "cell_type": "code",
   "execution_count": 136,
   "id": "bd162ed4-b169-4542-9c26-b1d511c783b4",
   "metadata": {},
   "outputs": [
    {
     "data": {
      "text/plain": [
       "['r', 'a', 'c', 'h', 'i', 't']"
      ]
     },
     "execution_count": 136,
     "metadata": {},
     "output_type": "execute_result"
    }
   ],
   "source": [
    "s"
   ]
  },
  {
   "cell_type": "code",
   "execution_count": 139,
   "id": "eea31a76-b375-4ef5-9d3e-ea6be7ae3919",
   "metadata": {},
   "outputs": [
    {
     "data": {
      "text/plain": [
       "'rachit'"
      ]
     },
     "execution_count": 139,
     "metadata": {},
     "output_type": "execute_result"
    }
   ],
   "source": [
    "s1=\"\"\n",
    "for i in s:\n",
    "    s1=s1+\"\".join(i)\n",
    "s1    "
   ]
  },
  {
   "cell_type": "markdown",
   "id": "cfa35746-260a-49e3-8bf7-1d7cd691916b",
   "metadata": {},
   "source": [
    "### 45. Create a list of the first `n` powers of 2."
   ]
  },
  {
   "cell_type": "code",
   "execution_count": 140,
   "id": "9aa549ad-9fa3-4017-b8b2-10c759a22a6e",
   "metadata": {},
   "outputs": [
    {
     "name": "stdin",
     "output_type": "stream",
     "text": [
      " 5\n"
     ]
    },
    {
     "data": {
      "text/plain": [
       "[1, 2, 4, 8, 16, 32]"
      ]
     },
     "execution_count": 140,
     "metadata": {},
     "output_type": "execute_result"
    }
   ],
   "source": [
    "n=int(input())\n",
    "[2**i for i in range(n+1)]"
   ]
  },
  {
   "cell_type": "markdown",
   "id": "8d277d65-5e0b-4a45-8034-2f2ec5b7ab15",
   "metadata": {},
   "source": [
    "### 46. Find the longest string in a list of strings."
   ]
  },
  {
   "cell_type": "code",
   "execution_count": 16,
   "id": "d905c39e-c2c5-4ee8-aab4-fd3482d14b7f",
   "metadata": {},
   "outputs": [
    {
     "name": "stdout",
     "output_type": "stream",
     "text": [
      "pachauri\n"
     ]
    }
   ],
   "source": [
    "l=[\"rachit\",\"pachauri\",\"sudh\"]\n",
    "res=len(max(l,key=len))\n",
    "res\n",
    "for i in l:\n",
    "    if len(i)==res:\n",
    "        print(i)     "
   ]
  },
  {
   "cell_type": "markdown",
   "id": "3d1ab235-08b6-4f2a-8ca8-f6d08aa77ace",
   "metadata": {},
   "source": [
    "### 47. Find the shortest string in a list of strings."
   ]
  },
  {
   "cell_type": "code",
   "execution_count": 15,
   "id": "54b10ad5-950e-4e56-a519-7d320b9b9983",
   "metadata": {},
   "outputs": [
    {
     "name": "stdout",
     "output_type": "stream",
     "text": [
      "sudh\n"
     ]
    }
   ],
   "source": [
    "l=[\"rachit\",\"pachauri\",\"sudh\"]\n",
    "res=len(min(l,key=len))\n",
    "res\n",
    "for i in l:\n",
    "    if len(i)==res:\n",
    "        print(i)"
   ]
  },
  {
   "cell_type": "markdown",
   "id": "aab569fe-9a32-448f-95a9-9f6535bf18de",
   "metadata": {},
   "source": [
    "### 48. Create a list of the first `n` triangular numbers."
   ]
  },
  {
   "cell_type": "code",
   "execution_count": 29,
   "id": "b14649e9-991b-417c-9e0a-2259291b6c7f",
   "metadata": {
    "tags": []
   },
   "outputs": [
    {
     "name": "stdout",
     "output_type": "stream",
     "text": [
      "[1, 3, 6, 10, 15, 21, 28, 36, 45, 55]\n"
     ]
    }
   ],
   "source": [
    "limit = 10\n",
    "triangle_nums = []\n",
    "num = 0\n",
    "\n",
    "for i in range(1, limit + 1):\n",
    "    num += i\n",
    "    triangle_nums.append(num)\n",
    "print(triangle_nums)\n",
    "\n",
    "\n",
    "        "
   ]
  },
  {
   "cell_type": "markdown",
   "id": "6acce1b0-d360-4bab-b51c-0da607d577c1",
   "metadata": {},
   "source": [
    "### 49. Check if a list contains another list as a subsequence."
   ]
  },
  {
   "cell_type": "code",
   "execution_count": 39,
   "id": "2b061369-a6ae-4e3c-8a9d-f1192907ecf5",
   "metadata": {},
   "outputs": [
    {
     "data": {
      "text/plain": [
       "True"
      ]
     },
     "execution_count": 39,
     "metadata": {},
     "output_type": "execute_result"
    }
   ],
   "source": [
    "l=[1,2,3,4,5,[1,2,3]]\n",
    "l1=[]\n",
    "l2=[]\n",
    "for i in l:\n",
    "    if type(i)==list:\n",
    "        for j in i:\n",
    "            l1.append(j)\n",
    "    elif type(i)!=list:\n",
    "        l2.append(i)\n",
    "\n",
    "        \n",
    "l1=set(l1)\n",
    "l2=set(l2)\n",
    "l1.issubset(l2)"
   ]
  },
  {
   "cell_type": "markdown",
   "id": "9cc7601d-59ec-4f88-b061-10f177d8aa53",
   "metadata": {},
   "source": [
    "### 50. Swap two elements in a list by their indices."
   ]
  },
  {
   "cell_type": "code",
   "execution_count": 27,
   "id": "9f4e7bea-9c6c-40c9-87e7-72c6b67ddfdc",
   "metadata": {},
   "outputs": [
    {
     "data": {
      "text/plain": [
       "[2, 1, 3, 4, 5]"
      ]
     },
     "execution_count": 27,
     "metadata": {},
     "output_type": "execute_result"
    }
   ],
   "source": [
    "l=[1,2,3,4,5]\n",
    "l[0],l[1]=l[1],l[0]\n",
    "l"
   ]
  },
  {
   "cell_type": "markdown",
   "id": "f9ea7025-4b2f-4cf1-bd0e-3ae084b2dd01",
   "metadata": {},
   "source": [
    "## Tuple Based Practice Problem :"
   ]
  },
  {
   "cell_type": "markdown",
   "id": "d9fbdc7b-e912-4494-bd0c-63adf27f0805",
   "metadata": {},
   "source": [
    "### 1. Create a tuple with integers from 1 to 5."
   ]
  },
  {
   "cell_type": "code",
   "execution_count": 2,
   "id": "23dbb26b-580d-472b-a0dd-aa157058b9c2",
   "metadata": {},
   "outputs": [
    {
     "data": {
      "text/plain": [
       "(1, 2, 3, 4, 5)"
      ]
     },
     "execution_count": 2,
     "metadata": {},
     "output_type": "execute_result"
    }
   ],
   "source": [
    "tuple(i for i in range(1,6))\n",
    "    \n",
    "    "
   ]
  },
  {
   "cell_type": "markdown",
   "id": "10b9df21-6df7-4a0b-b1cf-c54058716bd6",
   "metadata": {},
   "source": [
    "### 2. Access the third element of a tuple."
   ]
  },
  {
   "cell_type": "code",
   "execution_count": 33,
   "id": "2026fef4-8f16-4fea-bc0a-9349be8e7467",
   "metadata": {},
   "outputs": [
    {
     "name": "stdout",
     "output_type": "stream",
     "text": [
      "4 3 2 1\n"
     ]
    }
   ],
   "source": [
    "t=(1,2,3,4)\n",
    "a,b,c,d=t\n",
    "print(d,c,b,a)"
   ]
  },
  {
   "cell_type": "markdown",
   "id": "fe7b72ab-628d-484a-b4eb-010a3ff1db4c",
   "metadata": {},
   "source": [
    "### 3. Find the length of a tuple without using the `len()` function."
   ]
  },
  {
   "cell_type": "code",
   "execution_count": 34,
   "id": "15e7f992-693b-4350-96bb-f1a2ea228a38",
   "metadata": {
    "tags": []
   },
   "outputs": [
    {
     "name": "stdout",
     "output_type": "stream",
     "text": [
      "6\n"
     ]
    }
   ],
   "source": [
    "t=(1,32,3,4,5,6)\n",
    "c=0\n",
    "for i in t:\n",
    "    c=c+1\n",
    "    \n",
    "print(c)    "
   ]
  },
  {
   "cell_type": "markdown",
   "id": "d3346c13-0822-4d73-96aa-9213e276c0e2",
   "metadata": {},
   "source": [
    "### 4. Count the occurrences of an element in a tuple."
   ]
  },
  {
   "cell_type": "code",
   "execution_count": 4,
   "id": "e0a15255-3cd4-4f99-80ab-e019ace39d6b",
   "metadata": {},
   "outputs": [
    {
     "data": {
      "text/plain": [
       "4"
      ]
     },
     "execution_count": 4,
     "metadata": {},
     "output_type": "execute_result"
    }
   ],
   "source": [
    "t=(1,2,3,4,5,6,6,6,6)\n",
    "t.count(6)"
   ]
  },
  {
   "cell_type": "markdown",
   "id": "05a54d84-ac1d-4e3e-a674-1ceddf41a029",
   "metadata": {},
   "source": [
    "### 5. Find the index of the first occurrence of an element in a tuple."
   ]
  },
  {
   "cell_type": "code",
   "execution_count": 5,
   "id": "6071ab88-9ab4-4b6a-8d9a-44d9c083b98d",
   "metadata": {},
   "outputs": [
    {
     "data": {
      "text/plain": [
       "1"
      ]
     },
     "execution_count": 5,
     "metadata": {},
     "output_type": "execute_result"
    }
   ],
   "source": [
    "t=(1,2,2,3,3,4)\n",
    "t.index(2)"
   ]
  },
  {
   "cell_type": "markdown",
   "id": "1e1ee55e-d0f5-4ac6-a451-303a0e65b31f",
   "metadata": {},
   "source": [
    "### 6. Check if an element exists in a tuple."
   ]
  },
  {
   "cell_type": "code",
   "execution_count": 9,
   "id": "08300acf-76d9-43a6-abd4-a167ac5099be",
   "metadata": {},
   "outputs": [
    {
     "name": "stdin",
     "output_type": "stream",
     "text": [
      "enter the number 7\n"
     ]
    },
    {
     "name": "stdout",
     "output_type": "stream",
     "text": [
      "not exist\n"
     ]
    }
   ],
   "source": [
    "t=(1,2,3,4,5,6)\n",
    "n=int(input(\"enter the number\"))\n",
    "flag=False\n",
    "for i in t:\n",
    "    if i==n:\n",
    "        flag=True\n",
    "if flag==True:\n",
    "    print(\"exist\")\n",
    "else:\n",
    "    print(\"not exist\")"
   ]
  },
  {
   "cell_type": "markdown",
   "id": "9e4d8380-c9fb-47b9-bc1a-d4b29cd04b09",
   "metadata": {},
   "source": [
    "### 7. Convert a tuple to a list."
   ]
  },
  {
   "cell_type": "code",
   "execution_count": 11,
   "id": "49208843-9b97-42b6-831e-fe7583f93336",
   "metadata": {},
   "outputs": [
    {
     "data": {
      "text/plain": [
       "[1, 2, 3, 4, 5, 6]"
      ]
     },
     "execution_count": 11,
     "metadata": {},
     "output_type": "execute_result"
    }
   ],
   "source": [
    "t=(1,2,3,4,5,6)\n",
    "t=list(t)\n",
    "t"
   ]
  },
  {
   "cell_type": "markdown",
   "id": "4586f184-2c69-4a28-b7e9-bf68b5645343",
   "metadata": {},
   "source": [
    "### 8. Convert a list to a tuple."
   ]
  },
  {
   "cell_type": "code",
   "execution_count": 12,
   "id": "0d59995b-c8f6-4560-a7dc-5e2457cd5e39",
   "metadata": {},
   "outputs": [
    {
     "data": {
      "text/plain": [
       "(1, 2, 3, 4, 5, 6, 7)"
      ]
     },
     "execution_count": 12,
     "metadata": {},
     "output_type": "execute_result"
    }
   ],
   "source": [
    "l=[1,2,3,4,5,6,7]\n",
    "l=tuple(l)\n",
    "l"
   ]
  },
  {
   "cell_type": "markdown",
   "id": "6090b30d-ccfd-46b0-995a-df9ce0ad431c",
   "metadata": {},
   "source": [
    "### 9. Unpack the elements of a tuple into variables."
   ]
  },
  {
   "cell_type": "code",
   "execution_count": 13,
   "id": "f53264e3-3380-4591-b02f-a1a2a9c5b9b9",
   "metadata": {},
   "outputs": [
    {
     "name": "stdout",
     "output_type": "stream",
     "text": [
      "rachit\n",
      "4\n",
      "True\n"
     ]
    }
   ],
   "source": [
    "x,y,z=(\"rachit\",4,True)\n",
    "print(x)\n",
    "print(y)\n",
    "print(z)"
   ]
  },
  {
   "cell_type": "markdown",
   "id": "7e05899d-f8ee-4450-bdcf-718d28166a35",
   "metadata": {},
   "source": [
    "### 10. Create a tuple of even numbers from 1 to 10."
   ]
  },
  {
   "cell_type": "code",
   "execution_count": 16,
   "id": "7a030d7e-43e7-4956-b7e4-e2ebd5a8306b",
   "metadata": {},
   "outputs": [
    {
     "data": {
      "text/plain": [
       "(2, 4, 6, 8, 10)"
      ]
     },
     "execution_count": 16,
     "metadata": {},
     "output_type": "execute_result"
    }
   ],
   "source": [
    "tuple(i for i in range(1,11) if i%2==0)"
   ]
  },
  {
   "cell_type": "markdown",
   "id": "411872f0-0e02-4536-896e-f34c12ad6743",
   "metadata": {},
   "source": [
    "### 11. Create a tuple of odd numbers from 1 to 10."
   ]
  },
  {
   "cell_type": "code",
   "execution_count": 17,
   "id": "a4d9d1f9-50d2-4f27-8c11-35104eb813c7",
   "metadata": {},
   "outputs": [
    {
     "data": {
      "text/plain": [
       "(1, 3, 5, 7, 9)"
      ]
     },
     "execution_count": 17,
     "metadata": {},
     "output_type": "execute_result"
    }
   ],
   "source": [
    "tuple(i for i in range(1,11) if i%2!=0)"
   ]
  },
  {
   "cell_type": "markdown",
   "id": "11035e2d-d3c4-40e2-812b-5ed4b7cf21f0",
   "metadata": {},
   "source": [
    "### 12. Concatenate two tuples."
   ]
  },
  {
   "cell_type": "code",
   "execution_count": 19,
   "id": "6d25e194-30dc-42bf-80b2-2daf49d42604",
   "metadata": {},
   "outputs": [
    {
     "data": {
      "text/plain": [
       "(1, 2, 3, 4, 5, 6)"
      ]
     },
     "execution_count": 19,
     "metadata": {},
     "output_type": "execute_result"
    }
   ],
   "source": [
    "t1=(1,2,3)\n",
    "t2=(4,5,6)\n",
    "t1=t1+t2\n",
    "t1"
   ]
  },
  {
   "cell_type": "markdown",
   "id": "2ff73a67-6ae9-4064-b226-d0d66b5da9e8",
   "metadata": {},
   "source": [
    "### 13. Repeat a tuple three times."
   ]
  },
  {
   "cell_type": "code",
   "execution_count": 20,
   "id": "15001892-f958-47ff-96e3-da038f76d3e5",
   "metadata": {},
   "outputs": [
    {
     "name": "stdout",
     "output_type": "stream",
     "text": [
      "(1, 2, 3, 1, 2, 3, 1, 2, 3)\n"
     ]
    }
   ],
   "source": [
    "t=(1,2,3)\n",
    "print(t*3)"
   ]
  },
  {
   "cell_type": "markdown",
   "id": "070c686c-f4b9-4c39-9fca-0500d17bb4a7",
   "metadata": {},
   "source": [
    "### 14. Check if a tuple is empty."
   ]
  },
  {
   "cell_type": "code",
   "execution_count": 25,
   "id": "9a580081-f14e-49b1-9004-c74a974a4f55",
   "metadata": {},
   "outputs": [
    {
     "name": "stdin",
     "output_type": "stream",
     "text": [
      "Enter the number \n"
     ]
    },
    {
     "name": "stdout",
     "output_type": "stream",
     "text": [
      "empty\n"
     ]
    }
   ],
   "source": [
    "t=tuple(input(\"Enter the number\"))\n",
    "if t==():\n",
    "    print(\"empty\")\n",
    "else:\n",
    "    print(\"not empty\")"
   ]
  },
  {
   "cell_type": "markdown",
   "id": "32544a7d-c0c5-4725-8386-714f843134db",
   "metadata": {},
   "source": [
    "### 15. Create a nested tuple."
   ]
  },
  {
   "cell_type": "code",
   "execution_count": 34,
   "id": "8aee02a1-b4e8-4384-bb8c-e6bcfff995e6",
   "metadata": {},
   "outputs": [
    {
     "data": {
      "text/plain": [
       "((1, 2), (3, 4))"
      ]
     },
     "execution_count": 34,
     "metadata": {},
     "output_type": "execute_result"
    }
   ],
   "source": [
    "t1=(1,2),\n",
    "t2=(3,4),\n",
    "t3=()\n",
    "t3=t1+t2\n",
    "t3"
   ]
  },
  {
   "cell_type": "markdown",
   "id": "980c141c-230c-45e1-b941-b24d763f1afe",
   "metadata": {},
   "source": [
    "### 16. Access the first element of a nested tuple."
   ]
  },
  {
   "cell_type": "code",
   "execution_count": 36,
   "id": "ca309609-5588-4b4a-a892-fea76b1c4d57",
   "metadata": {},
   "outputs": [
    {
     "name": "stdout",
     "output_type": "stream",
     "text": [
      "4\n"
     ]
    }
   ],
   "source": [
    "t=(1,2,3,(4,5,6))\n",
    "for i in t:\n",
    "    if type(i)==tuple:\n",
    "        for j in i:\n",
    "            print(j)\n",
    "            break"
   ]
  },
  {
   "cell_type": "markdown",
   "id": "8b26b4c5-94ab-4507-87af-3da68b9f1a2c",
   "metadata": {},
   "source": [
    "### 17. Create a tuple with a single element."
   ]
  },
  {
   "cell_type": "code",
   "execution_count": 38,
   "id": "1a2960ea-f062-4ff3-aab5-70e6c4a987fd",
   "metadata": {},
   "outputs": [
    {
     "data": {
      "text/plain": [
       "1"
      ]
     },
     "execution_count": 38,
     "metadata": {},
     "output_type": "execute_result"
    }
   ],
   "source": [
    "t=(1)\n",
    "t"
   ]
  },
  {
   "cell_type": "markdown",
   "id": "77c5554d-4635-4f65-8d6a-a7292b17e767",
   "metadata": {},
   "source": [
    "### 18. Compare two tuples."
   ]
  },
  {
   "cell_type": "code",
   "execution_count": 36,
   "id": "82828022-ad9a-43ab-ae9d-f70c61995346",
   "metadata": {},
   "outputs": [
    {
     "name": "stdout",
     "output_type": "stream",
     "text": [
      "unequal\n"
     ]
    }
   ],
   "source": [
    "t1=(1,2,3)\n",
    "t2=(1,2,3,4)\n",
    "if t1==t2:\n",
    "    print(\"equal\")\n",
    "else:\n",
    "    print(\"unequal\")"
   ]
  },
  {
   "cell_type": "markdown",
   "id": "29c5fae1-d713-4bc8-be52-c846592ee992",
   "metadata": {},
   "source": [
    "### 19. Delete a tuple."
   ]
  },
  {
   "cell_type": "code",
   "execution_count": 39,
   "id": "28bd6226-a90b-4b3b-9cce-fd45a04d8cd6",
   "metadata": {},
   "outputs": [
    {
     "data": {
      "text/plain": [
       "()"
      ]
     },
     "execution_count": 39,
     "metadata": {},
     "output_type": "execute_result"
    }
   ],
   "source": [
    "t=(1,2,3)\n",
    "t=list(t)\n",
    "t.clear()\n",
    "tuple(t)"
   ]
  },
  {
   "cell_type": "markdown",
   "id": "6b6b75c0-54ed-4bdd-9cf8-d4413490d07f",
   "metadata": {},
   "source": [
    "### 20. Slice a tuple."
   ]
  },
  {
   "cell_type": "code",
   "execution_count": 39,
   "id": "18ebfe7b-d6fd-441f-afe9-7124e1eaac2c",
   "metadata": {},
   "outputs": [
    {
     "data": {
      "text/plain": [
       "(1, 2)"
      ]
     },
     "execution_count": 39,
     "metadata": {},
     "output_type": "execute_result"
    }
   ],
   "source": [
    "t=(1,2,3,4,5)\n",
    "t[0:2]"
   ]
  },
  {
   "cell_type": "markdown",
   "id": "74ed459f-abbd-4628-89a9-e24f3199dfc7",
   "metadata": {},
   "source": [
    "### 21. Find the maximum value in a tuple."
   ]
  },
  {
   "cell_type": "code",
   "execution_count": 48,
   "id": "5baa8a37-f8aa-47d7-b58c-0e8b8812063d",
   "metadata": {},
   "outputs": [
    {
     "data": {
      "text/plain": [
       "9"
      ]
     },
     "execution_count": 48,
     "metadata": {},
     "output_type": "execute_result"
    }
   ],
   "source": [
    "t=(4,5,6,8,9)\n",
    "t=list(t)\n",
    "t.sort(reverse=True)\n",
    "t[0]"
   ]
  },
  {
   "cell_type": "markdown",
   "id": "b6a9b5d8-6056-43a9-8524-ef675fc2f179",
   "metadata": {},
   "source": [
    "### 22. Find the minimum value in a tuple."
   ]
  },
  {
   "cell_type": "code",
   "execution_count": 49,
   "id": "9ad32123-36a7-4748-baae-9ff24039106b",
   "metadata": {},
   "outputs": [
    {
     "data": {
      "text/plain": [
       "4"
      ]
     },
     "execution_count": 49,
     "metadata": {},
     "output_type": "execute_result"
    }
   ],
   "source": [
    "t=(4,5,6,8,9)\n",
    "t=list(t)\n",
    "t.sort()\n",
    "t[0]"
   ]
  },
  {
   "cell_type": "markdown",
   "id": "8871249c-e24e-49ea-8092-c76691e72c31",
   "metadata": {},
   "source": [
    "### 23. Convert a string to a tuple of characters."
   ]
  },
  {
   "cell_type": "code",
   "execution_count": 50,
   "id": "d3c3d3a4-baa8-476d-a6a7-293fc85c5296",
   "metadata": {},
   "outputs": [
    {
     "name": "stdin",
     "output_type": "stream",
     "text": [
      "enter the string rachit\n"
     ]
    },
    {
     "data": {
      "text/plain": [
       "('r', 'a', 'c', 'h', 'i', 't')"
      ]
     },
     "execution_count": 50,
     "metadata": {},
     "output_type": "execute_result"
    }
   ],
   "source": [
    "s=input(\"enter the string\")\n",
    "tuple(s)"
   ]
  },
  {
   "cell_type": "markdown",
   "id": "59412337-2323-44e1-98b5-c37406fcc860",
   "metadata": {},
   "source": [
    "### 24. Convert a tuple of characters to a string."
   ]
  },
  {
   "cell_type": "code",
   "execution_count": 40,
   "id": "32686ecb-01b4-4a11-aee7-e161ec87d9cb",
   "metadata": {},
   "outputs": [
    {
     "name": "stdout",
     "output_type": "stream",
     "text": [
      "rachit\n"
     ]
    }
   ],
   "source": [
    "t=(\"r\",\"a\",\"c\",\"h\",\"i\",\"t\")\n",
    "s=\"\"\n",
    "for i in t:\n",
    "    s=s+\"\".join(i)\n",
    "print(s)    "
   ]
  },
  {
   "cell_type": "markdown",
   "id": "08b2130f-516a-4c9c-a6cd-926aa651bec5",
   "metadata": {},
   "source": [
    "### 25. Create a tuple from multiple data types."
   ]
  },
  {
   "cell_type": "code",
   "execution_count": 58,
   "id": "c0c600ee-047d-4d5f-adf1-96e1c501e588",
   "metadata": {},
   "outputs": [
    {
     "data": {
      "text/plain": [
       "('rachit', 466, True)"
      ]
     },
     "execution_count": 58,
     "metadata": {},
     "output_type": "execute_result"
    }
   ],
   "source": [
    "t=(\"rachit\",466,True)\n",
    "t"
   ]
  },
  {
   "cell_type": "markdown",
   "id": "69ae7969-8705-47ca-8444-4b39e6fc1946",
   "metadata": {},
   "source": [
    "### 26. Check if two tuples are identical."
   ]
  },
  {
   "cell_type": "code",
   "execution_count": 60,
   "id": "dec85c17-6093-4c9c-8148-245890cfadb4",
   "metadata": {},
   "outputs": [
    {
     "name": "stdout",
     "output_type": "stream",
     "text": [
      "not identical\n"
     ]
    }
   ],
   "source": [
    "t1=(1,2,3)\n",
    "t2=(1,2,3,4)\n",
    "if t1==t2:\n",
    "    print(\"identical\")\n",
    "else:\n",
    "    print(\"not identical\")"
   ]
  },
  {
   "cell_type": "markdown",
   "id": "33be4d22-8140-425d-8306-023a622c9662",
   "metadata": {},
   "source": [
    "### 27. Sort the elements of a tuple."
   ]
  },
  {
   "cell_type": "code",
   "execution_count": 66,
   "id": "3460cd16-e7f9-42bb-8620-ad484ae632e3",
   "metadata": {},
   "outputs": [
    {
     "data": {
      "text/plain": [
       "(1, 2, 4, 5, 5, 9)"
      ]
     },
     "execution_count": 66,
     "metadata": {},
     "output_type": "execute_result"
    }
   ],
   "source": [
    "t=(1,2,5,9,4,5)\n",
    "t=list(t)\n",
    "t.sort()\n",
    "t=tuple(t)\n",
    "t"
   ]
  },
  {
   "cell_type": "markdown",
   "id": "3c9cb808-b8a0-42b2-bdd5-027a2545bce1",
   "metadata": {},
   "source": [
    "### 28. Convert a tuple of integers to a tuple of strings."
   ]
  },
  {
   "cell_type": "code",
   "execution_count": 41,
   "id": "4cbb763e-e59d-4eac-bc10-e944653010cd",
   "metadata": {},
   "outputs": [
    {
     "data": {
      "text/plain": [
       "('1', '2', '3', '4', '5', '6')"
      ]
     },
     "execution_count": 41,
     "metadata": {},
     "output_type": "execute_result"
    }
   ],
   "source": [
    "t=(1,2,3,4,5,6)\n",
    "tuple(map(str,t))"
   ]
  },
  {
   "cell_type": "markdown",
   "id": "b2fb072a-270b-41c6-b0f9-e5ad6d7871a3",
   "metadata": {},
   "source": [
    "### 29. Convert a tuple of strings to a tuple of integers."
   ]
  },
  {
   "cell_type": "code",
   "execution_count": 42,
   "id": "c3685c4e-f05c-40e4-85b8-9214ccddaf76",
   "metadata": {},
   "outputs": [
    {
     "data": {
      "text/plain": [
       "(1, 2, 3, 4, 5, 6)"
      ]
     },
     "execution_count": 42,
     "metadata": {},
     "output_type": "execute_result"
    }
   ],
   "source": [
    "t=(\"1\",\"2\",\"3\",\"4\",\"5\",\"6\")\n",
    "tuple(map(int,t))"
   ]
  },
  {
   "cell_type": "markdown",
   "id": "28691b54-d229-493d-b469-63124ac81d8f",
   "metadata": {},
   "source": [
    "### 30. Merge two tuples."
   ]
  },
  {
   "cell_type": "code",
   "execution_count": 67,
   "id": "4a8f4b1e-c5d9-47aa-ae50-7379d72b9f97",
   "metadata": {},
   "outputs": [
    {
     "data": {
      "text/plain": [
       "(1, 2, 3, 4, 5, 6, 7, 8, 9)"
      ]
     },
     "execution_count": 67,
     "metadata": {},
     "output_type": "execute_result"
    }
   ],
   "source": [
    "x=(1,2,3)\n",
    "y=(4,5,6,7,8,9)\n",
    "x=x+y\n",
    "x"
   ]
  },
  {
   "cell_type": "markdown",
   "id": "4efd4c20-60fc-4e8a-89f1-e89987e49473",
   "metadata": {},
   "source": [
    "### 31. Flatten a nested tuple."
   ]
  },
  {
   "cell_type": "code",
   "execution_count": 53,
   "id": "3198cf46-3bee-46bb-beab-59eb54606648",
   "metadata": {},
   "outputs": [
    {
     "data": {
      "text/plain": [
       "(1, 2, 3, 4, 5)"
      ]
     },
     "execution_count": 53,
     "metadata": {},
     "output_type": "execute_result"
    }
   ],
   "source": [
    "t=(1,2,3,(4,5))\n",
    "l=[]\n",
    "for i in t:\n",
    "    if type(i)==tuple:\n",
    "        for j in i:\n",
    "            l.append(j)\n",
    "    else:\n",
    "        l.append(i)\n",
    "l=tuple(l)\n",
    "l"
   ]
  },
  {
   "cell_type": "markdown",
   "id": "d2f148ce-2787-47af-8ae3-b2cafa9c471a",
   "metadata": {},
   "source": [
    "### 32. Create a tuple of the first 5 prime numbers."
   ]
  },
  {
   "cell_type": "code",
   "execution_count": 29,
   "id": "a7573e1e-9c12-4052-92f6-85a87d9abd4b",
   "metadata": {},
   "outputs": [],
   "source": [
    "def prime():\n",
    "    l=[]\n",
    "    for i in range(2,12):\n",
    "        c=0\n",
    "        for j in range(1,12):\n",
    "            if i%j==0:\n",
    "                c=c+1\n",
    "        if c==2:\n",
    "            yield i"
   ]
  },
  {
   "cell_type": "code",
   "execution_count": 30,
   "id": "e29d8d6b-0d9c-41bd-8b00-f76d0f6533cc",
   "metadata": {},
   "outputs": [
    {
     "data": {
      "text/plain": [
       "(2, 3, 5, 7, 11)"
      ]
     },
     "execution_count": 30,
     "metadata": {},
     "output_type": "execute_result"
    }
   ],
   "source": [
    "tuple(prime())"
   ]
  },
  {
   "cell_type": "markdown",
   "id": "b2fe0135-f5d7-469b-ba29-c8fa2872df84",
   "metadata": {},
   "source": [
    "### 33. Check if a tuple is a palindrome."
   ]
  },
  {
   "cell_type": "code",
   "execution_count": 74,
   "id": "c9476ae1-c558-48ea-9a29-750e66fed472",
   "metadata": {},
   "outputs": [
    {
     "name": "stdout",
     "output_type": "stream",
     "text": [
      "palindrome\n"
     ]
    }
   ],
   "source": [
    "t=(1,2,3,2,1)\n",
    "if t==t[::-1]:\n",
    "    print(\"palindrome\")\n",
    "else:\n",
    "    print(\"not palindome\")"
   ]
  },
  {
   "cell_type": "markdown",
   "id": "801a5eee-544d-4d30-b1bc-63dda798baa3",
   "metadata": {},
   "source": [
    "### 34. Create a tuple of squares of numbers from 1 to 5."
   ]
  },
  {
   "cell_type": "code",
   "execution_count": 76,
   "id": "47d5c815-90b5-44e7-9264-f2d4655e9329",
   "metadata": {},
   "outputs": [
    {
     "data": {
      "text/plain": [
       "(1, 4, 9, 16, 25)"
      ]
     },
     "execution_count": 76,
     "metadata": {},
     "output_type": "execute_result"
    }
   ],
   "source": [
    "t=(1,2,3,4,5)\n",
    "tuple(i**2 for i in t)"
   ]
  },
  {
   "cell_type": "markdown",
   "id": "fdc930fb-c1b3-4167-a774-2f8b8bdb9fa1",
   "metadata": {},
   "source": [
    "### 35. Filter out all even numbers from a tuple."
   ]
  },
  {
   "cell_type": "code",
   "execution_count": 78,
   "id": "058c559c-e8a1-464c-a844-71a08e14fde3",
   "metadata": {},
   "outputs": [
    {
     "data": {
      "text/plain": [
       "(1, 2, 3, 4, 5)"
      ]
     },
     "execution_count": 78,
     "metadata": {},
     "output_type": "execute_result"
    }
   ],
   "source": [
    "t"
   ]
  },
  {
   "cell_type": "code",
   "execution_count": 79,
   "id": "9abb33ca-994d-4b66-8c53-5a28e8a83c57",
   "metadata": {},
   "outputs": [
    {
     "data": {
      "text/plain": [
       "(2, 4)"
      ]
     },
     "execution_count": 79,
     "metadata": {},
     "output_type": "execute_result"
    }
   ],
   "source": [
    "tuple(filter(lambda x:x%2==0,t))"
   ]
  },
  {
   "cell_type": "markdown",
   "id": "ef8de44e-c52f-4d05-bc9e-48e7356eb2d7",
   "metadata": {},
   "source": [
    "### 36. Multiply all elements in a tuple by 2."
   ]
  },
  {
   "cell_type": "code",
   "execution_count": 81,
   "id": "89c6b32d-392f-465a-8c81-dc394f77ebf9",
   "metadata": {},
   "outputs": [
    {
     "data": {
      "text/plain": [
       "(2, 4, 6, 8, 10)"
      ]
     },
     "execution_count": 81,
     "metadata": {},
     "output_type": "execute_result"
    }
   ],
   "source": [
    "tuple(map(lambda x:x*2,t))"
   ]
  },
  {
   "cell_type": "markdown",
   "id": "0afec03c-2776-4dbd-afb3-198966d7b777",
   "metadata": {},
   "source": [
    "### 37. Create a tuple of random numbers."
   ]
  },
  {
   "cell_type": "code",
   "execution_count": 58,
   "id": "824454f4-687c-46f4-98c1-cd159d8bd827",
   "metadata": {},
   "outputs": [],
   "source": [
    "import random"
   ]
  },
  {
   "cell_type": "code",
   "execution_count": 60,
   "id": "c4d81557-7c75-4098-a5e8-fb644473ac8e",
   "metadata": {},
   "outputs": [
    {
     "data": {
      "text/plain": [
       "(24, 71, 71, 17, 20, 29, 58, 64, 46, 63)"
      ]
     },
     "execution_count": 60,
     "metadata": {},
     "output_type": "execute_result"
    }
   ],
   "source": [
    "tuple(random.randint(1,100) for i in range(10))"
   ]
  },
  {
   "cell_type": "markdown",
   "id": "53688d9c-3877-432e-89d9-96d66406ef37",
   "metadata": {},
   "source": [
    "### 38. Check if a tuple is sorted."
   ]
  },
  {
   "cell_type": "code",
   "execution_count": 55,
   "id": "76fa797e-509f-46eb-a422-e5f78cebe3a0",
   "metadata": {},
   "outputs": [
    {
     "name": "stdout",
     "output_type": "stream",
     "text": [
      "unsorted\n"
     ]
    }
   ],
   "source": [
    "l=(1,9,4,5,7,8)\n",
    "l=list(l)\n",
    "l1=l[:]\n",
    "l1.sort()\n",
    "if l==l1:\n",
    "    print(\"sorted\")\n",
    "else:\n",
    "    print(\"unsorted\")"
   ]
  },
  {
   "cell_type": "markdown",
   "id": "098aefb0-104f-4323-993d-0d4b5dd57707",
   "metadata": {},
   "source": [
    "### 39. Rotate a tuple to the left by `n` positions."
   ]
  },
  {
   "cell_type": "code",
   "execution_count": 56,
   "id": "04dd84ef-30b3-4895-8699-d8d7e3f6a5a6",
   "metadata": {},
   "outputs": [
    {
     "name": "stdin",
     "output_type": "stream",
     "text": [
      "enter the rotation 3\n"
     ]
    },
    {
     "data": {
      "text/plain": [
       "(8, 9, 4, 6, 2, 1, 2, 3)"
      ]
     },
     "execution_count": 56,
     "metadata": {},
     "output_type": "execute_result"
    }
   ],
   "source": [
    "l=(1,2,3,8,9,4,6,2)\n",
    "n=int(input(\"enter the rotation\"))\n",
    "l=l[n:]+l[:n]\n",
    "l"
   ]
  },
  {
   "cell_type": "markdown",
   "id": "7c704c9d-b9dd-4775-86db-8362ca4e5378",
   "metadata": {},
   "source": [
    "### 40. Rotate a tuple to the right by `n` positions."
   ]
  },
  {
   "cell_type": "code",
   "execution_count": 57,
   "id": "a9599879-548d-4387-b706-b60ca24f2df0",
   "metadata": {},
   "outputs": [
    {
     "name": "stdin",
     "output_type": "stream",
     "text": [
      "enter the rotation 3\n"
     ]
    },
    {
     "data": {
      "text/plain": [
       "(4, 6, 2, 1, 2, 3, 8, 9)"
      ]
     },
     "execution_count": 57,
     "metadata": {},
     "output_type": "execute_result"
    }
   ],
   "source": [
    "l=(1,2,3,8,9,4,6,2)\n",
    "n=int(input(\"enter the rotation\"))\n",
    "l=l[-n:]+l[:-n]\n",
    "l"
   ]
  },
  {
   "cell_type": "markdown",
   "id": "8572bbd8-8746-4b5b-8b95-827f83c6bb84",
   "metadata": {},
   "source": [
    "### 41. Create a tuple of the first 5 Fibonacci numbers."
   ]
  },
  {
   "cell_type": "code",
   "execution_count": 82,
   "id": "bd3d9189-e174-4479-b563-ce5da8272831",
   "metadata": {},
   "outputs": [
    {
     "name": "stdout",
     "output_type": "stream",
     "text": [
      "0\n",
      "1\n",
      "1\n",
      "2\n",
      "3\n"
     ]
    }
   ],
   "source": [
    "a,b=0,1\n",
    "for i in range(5):\n",
    "    c=a+b\n",
    "    print(a)\n",
    "    a,b=b,c"
   ]
  },
  {
   "cell_type": "markdown",
   "id": "01d7186c-91ea-4eb8-9b10-acfab8c68450",
   "metadata": {},
   "source": [
    "### 42. Create a tuple from user input."
   ]
  },
  {
   "cell_type": "code",
   "execution_count": 86,
   "id": "4db84d03-8945-4a6d-a47f-8bc858885551",
   "metadata": {},
   "outputs": [
    {
     "name": "stdin",
     "output_type": "stream",
     "text": [
      "enter the number 2\n",
      " rachit\n",
      " 4\n"
     ]
    },
    {
     "data": {
      "text/plain": [
       "('rachit', '4')"
      ]
     },
     "execution_count": 86,
     "metadata": {},
     "output_type": "execute_result"
    }
   ],
   "source": [
    "l= []\n",
    "n =int(input(\"enter the number\"))\n",
    "for i in range(0,n):\n",
    "    j=input()\n",
    "    l.append(j)\n",
    "l=tuple(l)\n",
    "l"
   ]
  },
  {
   "cell_type": "markdown",
   "id": "7026f7fe-2f6c-41f2-a151-0a36c39a2058",
   "metadata": {},
   "source": [
    "### 43. Swap two elements in a tuple."
   ]
  },
  {
   "cell_type": "code",
   "execution_count": 63,
   "id": "9bd30dc7-9069-4a96-8de0-ce3d81c96bb6",
   "metadata": {},
   "outputs": [
    {
     "data": {
      "text/plain": [
       "(3, 2, 1, 4, 5, 6)"
      ]
     },
     "execution_count": 63,
     "metadata": {},
     "output_type": "execute_result"
    }
   ],
   "source": [
    "t=(1,2,3,4,5,6)\n",
    "t=list(t)\n",
    "t[0],t[2]=t[2],t[0]\n",
    "t=tuple(t)\n",
    "t"
   ]
  },
  {
   "cell_type": "markdown",
   "id": "cdc61597-a66b-4a39-b502-99256ab862e5",
   "metadata": {},
   "source": [
    "### 44. Reverse the elements of a tuple."
   ]
  },
  {
   "cell_type": "code",
   "execution_count": 90,
   "id": "a417241a-d6ff-4d19-bdd6-d0e81061bd20",
   "metadata": {},
   "outputs": [
    {
     "data": {
      "text/plain": [
       "('rachit', 45, 3, 2, 1)"
      ]
     },
     "execution_count": 90,
     "metadata": {},
     "output_type": "execute_result"
    }
   ],
   "source": [
    "t=(1,2,3,45,\"rachit\")\n",
    "t1=t[::-1]\n",
    "t1\n",
    "    "
   ]
  },
  {
   "cell_type": "markdown",
   "id": "871f39d6-7043-427f-b650-7011bf25a542",
   "metadata": {},
   "source": [
    "### 45. Create a tuple of the first `n` powers of 2."
   ]
  },
  {
   "cell_type": "code",
   "execution_count": 96,
   "id": "78b7aca0-e81a-4090-8369-2b9a7a92571c",
   "metadata": {},
   "outputs": [
    {
     "name": "stdin",
     "output_type": "stream",
     "text": [
      " 5\n"
     ]
    },
    {
     "data": {
      "text/plain": [
       "(1, 2, 4, 8, 16, 32)"
      ]
     },
     "execution_count": 96,
     "metadata": {},
     "output_type": "execute_result"
    }
   ],
   "source": [
    "n=int(input())\n",
    "tuple(2**i for i in range(n+1))   "
   ]
  },
  {
   "cell_type": "markdown",
   "id": "e1710650-f995-4dd9-b03c-39e9f480c72c",
   "metadata": {},
   "source": [
    "### 46. Find the longest string in a tuple of strings."
   ]
  },
  {
   "cell_type": "code",
   "execution_count": 17,
   "id": "84792424-90a4-481b-b728-8a7095f28c9e",
   "metadata": {},
   "outputs": [
    {
     "name": "stdout",
     "output_type": "stream",
     "text": [
      "pachauri\n"
     ]
    }
   ],
   "source": [
    "l=(\"rachit\",\"pachauri\",\"sudh\")\n",
    "res=len(max(l,key=len))\n",
    "res\n",
    "for i in l:\n",
    "    if len(i)==res:\n",
    "        print(i)"
   ]
  },
  {
   "cell_type": "markdown",
   "id": "91c44e28-318b-4188-ba01-0ec71bf08e3e",
   "metadata": {},
   "source": [
    "### 47. Find the shortest string in a tuple of strings."
   ]
  },
  {
   "cell_type": "code",
   "execution_count": 18,
   "id": "b1116471-8173-4445-8c22-059eda7a9b3d",
   "metadata": {},
   "outputs": [
    {
     "name": "stdout",
     "output_type": "stream",
     "text": [
      "sudh\n"
     ]
    }
   ],
   "source": [
    "l=[\"rachit\",\"pachauri\",\"sudh\"]\n",
    "res=len(min(l,key=len))\n",
    "res\n",
    "for i in l:\n",
    "    if len(i)==res:\n",
    "        print(i)"
   ]
  },
  {
   "cell_type": "markdown",
   "id": "181f0aa0-1482-4ca2-a512-93d8a41c3fd2",
   "metadata": {},
   "source": [
    "### 48. Create a tuple of the first `n` triangular numbers."
   ]
  },
  {
   "cell_type": "code",
   "execution_count": 68,
   "id": "c17d8791-0136-498f-8ee3-53cd1a11898a",
   "metadata": {},
   "outputs": [
    {
     "name": "stdin",
     "output_type": "stream",
     "text": [
      "enter n terms 10\n"
     ]
    },
    {
     "data": {
      "text/plain": [
       "(1, 3, 6, 10, 15, 21, 28, 36, 45, 55)"
      ]
     },
     "execution_count": 68,
     "metadata": {},
     "output_type": "execute_result"
    }
   ],
   "source": [
    "s=0\n",
    "n=int(input(\"enter n terms\"))\n",
    "l=[]\n",
    "for i in range(1,n+1):\n",
    "    s=s+i\n",
    "    l.append(s)\n",
    "l=tuple(l)\n",
    "l"
   ]
  },
  {
   "cell_type": "markdown",
   "id": "a98e5329-abbd-4d50-af4e-793a36ffa323",
   "metadata": {},
   "source": [
    "### 49. Check if a tuple contains another tuple as a subsequence."
   ]
  },
  {
   "cell_type": "code",
   "execution_count": 40,
   "id": "00b4b45b-db16-4604-aca4-57be95f470c7",
   "metadata": {},
   "outputs": [
    {
     "data": {
      "text/plain": [
       "True"
      ]
     },
     "execution_count": 40,
     "metadata": {},
     "output_type": "execute_result"
    }
   ],
   "source": [
    "l=(1,2,3,4,5,[1,2,3])\n",
    "l=list(l)\n",
    "l1=[]\n",
    "l2=[]\n",
    "for i in l:\n",
    "    if type(i)==list:\n",
    "        for j in i:\n",
    "            l1.append(j)\n",
    "    elif type(i)!=list:\n",
    "        l2.append(i)\n",
    "\n",
    "        \n",
    "l1=set(l1)\n",
    "l2=set(l2)\n",
    "l1.issubset(l2)"
   ]
  },
  {
   "cell_type": "markdown",
   "id": "e1c916fb-bc59-4b96-a7d4-7bbcf1231678",
   "metadata": {},
   "source": [
    "### 50. Create a tuple of alternating 1s and 0s of length `n`."
   ]
  },
  {
   "cell_type": "code",
   "execution_count": 71,
   "id": "7ce0281f-d170-4311-bcc5-608e4ce43cbf",
   "metadata": {
    "tags": []
   },
   "outputs": [
    {
     "data": {
      "text/plain": [
       "(1, 0, 1, 0, 1, 0, 1)"
      ]
     },
     "execution_count": 71,
     "metadata": {},
     "output_type": "execute_result"
    }
   ],
   "source": [
    "t=(1,2,3,4,56,7,8)\n",
    "l=len(t)\n",
    "l1=[]\n",
    "for i in range(l):\n",
    "    if i%2==0:\n",
    "        l1.append(1)\n",
    "    else:\n",
    "        l1.append(0)\n",
    "l1=tuple(l1)\n",
    "l1"
   ]
  },
  {
   "cell_type": "markdown",
   "id": "0e9d0e8c-e6a1-45eb-8d32-46fcd9cee271",
   "metadata": {
    "tags": []
   },
   "source": [
    "## Set Based Practice Problem :"
   ]
  },
  {
   "cell_type": "markdown",
   "id": "2d578aa1-ae84-428c-bc03-61375a1615fa",
   "metadata": {},
   "source": [
    "### 1. Create a set with integers from 1 to 5."
   ]
  },
  {
   "cell_type": "code",
   "execution_count": 26,
   "id": "fb9632a2-b079-4590-9456-f143ab978d92",
   "metadata": {},
   "outputs": [
    {
     "data": {
      "text/plain": [
       "{1, 2, 3, 4, 5}"
      ]
     },
     "execution_count": 26,
     "metadata": {},
     "output_type": "execute_result"
    }
   ],
   "source": [
    "{i for i in range(1,6)}"
   ]
  },
  {
   "cell_type": "markdown",
   "id": "c4ad94e6-56f5-4258-a317-4d146c6547d5",
   "metadata": {},
   "source": [
    "## 2. Add an element to a set."
   ]
  },
  {
   "cell_type": "code",
   "execution_count": 28,
   "id": "08ed6102-7d05-47f7-8c18-48ebe00e6bdc",
   "metadata": {},
   "outputs": [
    {
     "data": {
      "text/plain": [
       "{1, 2, 3, 4, 5, 6}"
      ]
     },
     "execution_count": 28,
     "metadata": {},
     "output_type": "execute_result"
    }
   ],
   "source": [
    "s={1,2,3,4,5}\n",
    "s.add(6)\n",
    "s"
   ]
  },
  {
   "cell_type": "markdown",
   "id": "a3cad49b-5789-40ee-bd4f-98303460ddbe",
   "metadata": {},
   "source": [
    "## 3. Remove an element from a set."
   ]
  },
  {
   "cell_type": "code",
   "execution_count": 30,
   "id": "84c3b879-ec98-47e3-b9e1-599fbab1aa50",
   "metadata": {},
   "outputs": [
    {
     "data": {
      "text/plain": [
       "{1, 2, 4, 5}"
      ]
     },
     "execution_count": 30,
     "metadata": {},
     "output_type": "execute_result"
    }
   ],
   "source": [
    "s={1,2,3,4,5}\n",
    "s.remove(3)\n",
    "s"
   ]
  },
  {
   "cell_type": "markdown",
   "id": "67f5d836-4d64-476d-aecd-24b82de0775b",
   "metadata": {},
   "source": [
    "### 4. Check if an element exists in a set."
   ]
  },
  {
   "cell_type": "code",
   "execution_count": 2,
   "id": "0ef4a198-df20-4bdc-80b1-866e263bcefa",
   "metadata": {},
   "outputs": [
    {
     "name": "stdin",
     "output_type": "stream",
     "text": [
      "enter the number  6\n"
     ]
    },
    {
     "name": "stdout",
     "output_type": "stream",
     "text": [
      "not found\n"
     ]
    }
   ],
   "source": [
    "n = int(input(\"enter the number \"))\n",
    "s= {1,2,3,4,5}\n",
    "s=list(s)\n",
    "flag=False\n",
    "for i in s:\n",
    "    if n==i:\n",
    "        flag=True\n",
    "if flag==True:\n",
    "    print(\"found\")\n",
    "else:\n",
    "    print(\"not found\")"
   ]
  },
  {
   "cell_type": "markdown",
   "id": "cbab8eba-5c68-46fe-b54b-96df9323ead9",
   "metadata": {},
   "source": [
    "### 5. Find the length of a set without using the `len()` function."
   ]
  },
  {
   "cell_type": "code",
   "execution_count": 4,
   "id": "bddd4012-5390-4bf2-aa75-da5ec9a7dc9d",
   "metadata": {},
   "outputs": [
    {
     "name": "stdout",
     "output_type": "stream",
     "text": [
      "7\n"
     ]
    }
   ],
   "source": [
    "s={1,2,3,4,5,\"sudh\",6,6}\n",
    "c=0\n",
    "for i in s:\n",
    "    c=c+1\n",
    "print(c)    \n",
    "    "
   ]
  },
  {
   "cell_type": "markdown",
   "id": "8d64f5b1-2826-40f2-9fa0-cf8b00c5d149",
   "metadata": {},
   "source": [
    "## 6. Clear all elements from a set."
   ]
  },
  {
   "cell_type": "code",
   "execution_count": 33,
   "id": "16ab01db-2dc5-4797-8b94-86f7ee9545cc",
   "metadata": {},
   "outputs": [
    {
     "name": "stdout",
     "output_type": "stream",
     "text": [
      "set()\n"
     ]
    }
   ],
   "source": [
    "s={1,2,3,4,\"sudh\"}\n",
    "s.clear() \n",
    "print(s)\n",
    "    "
   ]
  },
  {
   "cell_type": "markdown",
   "id": "b3cddf1d-9772-4a50-92ba-50d6a29268d9",
   "metadata": {},
   "source": [
    "### 7. Create a set of even numbers from 1 to 10."
   ]
  },
  {
   "cell_type": "code",
   "execution_count": 4,
   "id": "0370fd4d-2d33-4e05-9ee5-1fc1aea4e429",
   "metadata": {},
   "outputs": [
    {
     "data": {
      "text/plain": [
       "{2, 4, 6}"
      ]
     },
     "execution_count": 4,
     "metadata": {},
     "output_type": "execute_result"
    }
   ],
   "source": [
    "l={1,2,3,4,5,6}\n",
    "{i for i in l if i%2==0}"
   ]
  },
  {
   "cell_type": "markdown",
   "id": "47dc9d26-e203-4314-aaf2-d51e096a76d5",
   "metadata": {},
   "source": [
    "### 8. Create a set of odd numbers from 1 to 10."
   ]
  },
  {
   "cell_type": "code",
   "execution_count": 5,
   "id": "b068bdcd-fc9b-45bb-a5c7-eb235edffe40",
   "metadata": {},
   "outputs": [
    {
     "data": {
      "text/plain": [
       "{1, 3, 5}"
      ]
     },
     "execution_count": 5,
     "metadata": {},
     "output_type": "execute_result"
    }
   ],
   "source": [
    "l={1,2,3,4,5,6}\n",
    "{i for i in l if i%2!=0}"
   ]
  },
  {
   "cell_type": "markdown",
   "id": "e2583be3-260b-45a7-b45f-70725ba3bdd1",
   "metadata": {},
   "source": [
    "### 9. Find the union of two sets."
   ]
  },
  {
   "cell_type": "code",
   "execution_count": 9,
   "id": "9e6ae6be-e177-4507-b49a-06ff9213eb90",
   "metadata": {},
   "outputs": [
    {
     "name": "stdout",
     "output_type": "stream",
     "text": [
      "{1, 2, 3, 4, 5, 6}\n"
     ]
    }
   ],
   "source": [
    "s1={1,2,3}\n",
    "s2={4,5,6}\n",
    "print(s1.union(s2))\n"
   ]
  },
  {
   "cell_type": "markdown",
   "id": "b6f91b42-21ea-4780-b77c-bb28dfabc466",
   "metadata": {},
   "source": [
    "### 10. Find the intersection of two sets."
   ]
  },
  {
   "cell_type": "code",
   "execution_count": 2,
   "id": "1a696e43-5b54-4561-843e-221c00deb2a6",
   "metadata": {},
   "outputs": [
    {
     "name": "stdout",
     "output_type": "stream",
     "text": [
      "{4}\n"
     ]
    }
   ],
   "source": [
    "s1={1,2,3,4}\n",
    "s2={4,5,6}\n",
    "print(s1.intersection(s2))"
   ]
  },
  {
   "cell_type": "markdown",
   "id": "eead04c0-4760-4cd3-ab41-b616ac060e6b",
   "metadata": {},
   "source": [
    "### 11. Find the difference between two sets."
   ]
  },
  {
   "cell_type": "code",
   "execution_count": 3,
   "id": "08dc0baf-c61b-44c8-a907-bbe15334c73d",
   "metadata": {},
   "outputs": [
    {
     "name": "stdout",
     "output_type": "stream",
     "text": [
      "{1, 2, 3}\n"
     ]
    }
   ],
   "source": [
    "s1={1,2,3,4}\n",
    "s2={4,5,6}\n",
    "print(s1.difference(s2))"
   ]
  },
  {
   "cell_type": "markdown",
   "id": "425f1aa2-3833-499f-b718-eaee4a0f27bb",
   "metadata": {},
   "source": [
    "### 12. Check if a set is a subset of another set."
   ]
  },
  {
   "cell_type": "code",
   "execution_count": 5,
   "id": "3565d590-ac79-41ff-bb66-a8462d12bb82",
   "metadata": {},
   "outputs": [
    {
     "name": "stdout",
     "output_type": "stream",
     "text": [
      "True\n"
     ]
    }
   ],
   "source": [
    "s1={1,2,3,4,5,6}\n",
    "s2={4,5,6}\n",
    "print(s2.issubset(s1))"
   ]
  },
  {
   "cell_type": "markdown",
   "id": "ef8c085c-bb18-45c1-8f47-8fcc4cc6c1a8",
   "metadata": {},
   "source": [
    "### 13. Check if a set is a superset of another set."
   ]
  },
  {
   "cell_type": "code",
   "execution_count": 6,
   "id": "0f078a75-6743-41de-96e3-4780434a2bc9",
   "metadata": {},
   "outputs": [
    {
     "name": "stdout",
     "output_type": "stream",
     "text": [
      "True\n"
     ]
    }
   ],
   "source": [
    "s1={1,2,3,4,5,6}\n",
    "s2={4,5,6}\n",
    "print(s1.issuperset(s2))"
   ]
  },
  {
   "cell_type": "markdown",
   "id": "ec90e1f5-0ff2-4c0f-952d-1ed903b9272d",
   "metadata": {},
   "source": [
    "### 14. Create a set from a list."
   ]
  },
  {
   "cell_type": "code",
   "execution_count": 11,
   "id": "8c193a0d-6f78-49aa-be33-3a59ef01110d",
   "metadata": {},
   "outputs": [
    {
     "name": "stdout",
     "output_type": "stream",
     "text": [
      "{1, 2, 3, 4, 5, 6, 7, 'sudh'}\n"
     ]
    }
   ],
   "source": [
    "l = [1,2,3,4,5,6,7,7,\"sudh\"]\n",
    "print(set(l))"
   ]
  },
  {
   "cell_type": "markdown",
   "id": "1882c61c-8ae5-49a4-8ea5-035d7a001dc7",
   "metadata": {},
   "source": [
    "### 15. Convert a set to a list."
   ]
  },
  {
   "cell_type": "code",
   "execution_count": 10,
   "id": "03ea3f84-abcf-4ce1-9398-5a8d66f10fb6",
   "metadata": {},
   "outputs": [
    {
     "name": "stdout",
     "output_type": "stream",
     "text": [
      "[1, 2, 3, 4, 5, 'rachit']\n"
     ]
    }
   ],
   "source": [
    "s={1,2,3,4,5,\"rachit\"}\n",
    "print(list(s))"
   ]
  },
  {
   "cell_type": "markdown",
   "id": "9e835efb-08dd-4bcc-b212-12abd69fec80",
   "metadata": {},
   "source": [
    "### 16. Remove a random element from a set."
   ]
  },
  {
   "cell_type": "code",
   "execution_count": 9,
   "id": "c6449a2e-1ccc-4e19-9f19-e543542bb356",
   "metadata": {},
   "outputs": [
    {
     "data": {
      "text/plain": [
       "{2, 3, 4, 5}"
      ]
     },
     "execution_count": 9,
     "metadata": {},
     "output_type": "execute_result"
    }
   ],
   "source": [
    "s={1,2,3,4,5}\n",
    "s.pop()\n",
    "s"
   ]
  },
  {
   "cell_type": "markdown",
   "id": "b489c639-6f50-4514-b88e-9cacd64dae46",
   "metadata": {},
   "source": [
    "### 17. Pop an element from a set."
   ]
  },
  {
   "cell_type": "code",
   "execution_count": 15,
   "id": "50a60e1e-99f3-41a9-bf4a-f110aad631d0",
   "metadata": {},
   "outputs": [
    {
     "data": {
      "text/plain": [
       "1"
      ]
     },
     "execution_count": 15,
     "metadata": {},
     "output_type": "execute_result"
    }
   ],
   "source": [
    "s={1,2,3,4,5,6}\n",
    "s.pop()"
   ]
  },
  {
   "cell_type": "markdown",
   "id": "4fd353a8-041b-4257-aeca-a95d2ac12276",
   "metadata": {},
   "source": [
    "### 18. Check if two sets have no elements in common."
   ]
  },
  {
   "cell_type": "code",
   "execution_count": 27,
   "id": "57137bbc-f88a-49de-8135-fca32d016dff",
   "metadata": {},
   "outputs": [
    {
     "name": "stdout",
     "output_type": "stream",
     "text": [
      "common element\n"
     ]
    }
   ],
   "source": [
    "s1={1,2,3,4,5}\n",
    "s2={5,6,7,8}\n",
    "if s1.intersection(s2)==set():\n",
    "    print(\"no common element\")\n",
    "else:\n",
    "    print(\"common element\")"
   ]
  },
  {
   "cell_type": "markdown",
   "id": "4d4b7214-52f0-47e2-b050-18ab0ac37493",
   "metadata": {},
   "source": [
    "### 19. Find the symmetric difference between two sets."
   ]
  },
  {
   "cell_type": "code",
   "execution_count": 28,
   "id": "db71367d-13f3-425c-96fb-d61f5418abde",
   "metadata": {},
   "outputs": [
    {
     "data": {
      "text/plain": [
       "{1, 2, 3, 4, 6, 7, 8}"
      ]
     },
     "execution_count": 28,
     "metadata": {},
     "output_type": "execute_result"
    }
   ],
   "source": [
    "s1={1,2,3,4,5}\n",
    "s2={5,6,7,8}\n",
    "s1.symmetric_difference(s2)"
   ]
  },
  {
   "cell_type": "markdown",
   "id": "f8601864-bd7c-4a73-95f4-6d584639aaba",
   "metadata": {},
   "source": [
    "### 20. Update a set with elements from another set."
   ]
  },
  {
   "cell_type": "code",
   "execution_count": 33,
   "id": "675cde17-cf2b-4d1f-979e-006f78b7cc23",
   "metadata": {},
   "outputs": [
    {
     "data": {
      "text/plain": [
       "{1, 2, 3, 4, 5, 6, 7, 8}"
      ]
     },
     "execution_count": 33,
     "metadata": {},
     "output_type": "execute_result"
    }
   ],
   "source": [
    "s1={1,2,3,4,5}\n",
    "s2={5,6,7,8}\n",
    "s1.update(s2)\n",
    "\n",
    "s1"
   ]
  },
  {
   "cell_type": "markdown",
   "id": "7de9a243-80fe-4719-8cca-b35391f9d7b1",
   "metadata": {},
   "source": [
    "### 21. Create a set of the first 5 prime numbers."
   ]
  },
  {
   "cell_type": "code",
   "execution_count": 25,
   "id": "3f54ecf2-2d22-42d4-a1f8-193c81eb31ce",
   "metadata": {},
   "outputs": [],
   "source": [
    "def prime():\n",
    "    l=[]\n",
    "    for i in range(2,12):\n",
    "        c=0\n",
    "        for j in range(1,12):\n",
    "            if i%j==0:\n",
    "                c=c+1\n",
    "        if c==2:\n",
    "            yield i"
   ]
  },
  {
   "cell_type": "code",
   "execution_count": 26,
   "id": "8161d177-a8c3-467c-bfc4-27dd79a853d5",
   "metadata": {},
   "outputs": [
    {
     "data": {
      "text/plain": [
       "{2, 3, 5, 7, 11}"
      ]
     },
     "execution_count": 26,
     "metadata": {},
     "output_type": "execute_result"
    }
   ],
   "source": [
    "set(prime())"
   ]
  },
  {
   "cell_type": "markdown",
   "id": "929881f7-ae1d-4844-b4dc-43f3375f6b8d",
   "metadata": {},
   "source": [
    "### 22. Check if two sets are identical."
   ]
  },
  {
   "cell_type": "code",
   "execution_count": 37,
   "id": "14c1d01d-b290-4f18-a83a-20665710d573",
   "metadata": {},
   "outputs": [
    {
     "name": "stdout",
     "output_type": "stream",
     "text": [
      "identical\n"
     ]
    }
   ],
   "source": [
    "s1={5,6,7,8}\n",
    "s2={5,6,7,8}\n",
    "if s1==s2:\n",
    "    print(\"identical\")\n",
    "else:\n",
    "    print(\"not identical\")"
   ]
  },
  {
   "cell_type": "markdown",
   "id": "c75aa61a-c9f9-4a80-ab61-5c36bd19405c",
   "metadata": {},
   "source": [
    "### 23. Create a frozen set."
   ]
  },
  {
   "cell_type": "code",
   "execution_count": 7,
   "id": "53e757c7-d996-4ab5-8b08-db6a5ecfc1b2",
   "metadata": {},
   "outputs": [
    {
     "data": {
      "text/plain": [
       "frozenset({1, 2, 3, 4, 5})"
      ]
     },
     "execution_count": 8,
     "metadata": {},
     "output_type": "execute_result"
    }
   ],
   "source": [
    "s={1,2,3,4,5}\n",
    "frozenset(s)\n",
    "s"
   ]
  },
  {
   "cell_type": "markdown",
   "id": "0c78d357-fce9-4c27-8367-646f8707c7ae",
   "metadata": {},
   "source": [
    "### 24. Check if a set is disjoint with another set."
   ]
  },
  {
   "cell_type": "code",
   "execution_count": 41,
   "id": "c7e2b87a-bbd2-4562-a6f2-95779a05ca65",
   "metadata": {},
   "outputs": [
    {
     "name": "stdout",
     "output_type": "stream",
     "text": [
      "disjoint\n"
     ]
    }
   ],
   "source": [
    "s1={1,2,3,4}\n",
    "s2={5,6,7,8}\n",
    "if s1.intersection(s2)==set():\n",
    "    print(\"disjoint\")\n",
    "else:\n",
    "    print(\"no disjoint\")"
   ]
  },
  {
   "cell_type": "markdown",
   "id": "ffdf6e97-814f-46f6-bcff-3921b1d7e029",
   "metadata": {},
   "source": [
    "### 25. Create a set of squares of numbers from 1 to 5."
   ]
  },
  {
   "cell_type": "code",
   "execution_count": 43,
   "id": "f238e080-be9a-4977-a1f9-052857f2cecc",
   "metadata": {},
   "outputs": [
    {
     "data": {
      "text/plain": [
       "{1, 4, 9, 16, 25}"
      ]
     },
     "execution_count": 43,
     "metadata": {},
     "output_type": "execute_result"
    }
   ],
   "source": [
    "{i**2 for i in range(1,6)}"
   ]
  },
  {
   "cell_type": "markdown",
   "id": "c7f12a95-b923-40a8-89da-48e3861b7b9f",
   "metadata": {},
   "source": [
    "### 26. Filter out all even numbers from a set."
   ]
  },
  {
   "cell_type": "code",
   "execution_count": 4,
   "id": "7c40a5b0-9e4b-4673-81fc-9660a9441cfd",
   "metadata": {},
   "outputs": [
    {
     "data": {
      "text/plain": [
       "{2, 4}"
      ]
     },
     "execution_count": 4,
     "metadata": {},
     "output_type": "execute_result"
    }
   ],
   "source": [
    "s={1,2,3,4,5}\n",
    "set(filter(lambda x:x%2==0,s))"
   ]
  },
  {
   "cell_type": "markdown",
   "id": "006a0cdb-289e-42a2-894f-3100e9debaaf",
   "metadata": {},
   "source": [
    "### 27. Multiply all elements in a set by 2."
   ]
  },
  {
   "cell_type": "code",
   "execution_count": 6,
   "id": "a3c4753f-8e21-4341-a16d-74cc432154f7",
   "metadata": {},
   "outputs": [
    {
     "data": {
      "text/plain": [
       "{2, 4, 6, 8, 10}"
      ]
     },
     "execution_count": 6,
     "metadata": {},
     "output_type": "execute_result"
    }
   ],
   "source": [
    "s={1,2,3,4,5}\n",
    "set(map(lambda x:x*2,s))"
   ]
  },
  {
   "cell_type": "markdown",
   "id": "c59f8329-a9b4-47f6-9bb4-e3d9197b435c",
   "metadata": {},
   "source": [
    "### 28. Create a set of random numbers."
   ]
  },
  {
   "cell_type": "code",
   "execution_count": 13,
   "id": "070959c5-cd0a-476c-a53f-dcfc22332f20",
   "metadata": {},
   "outputs": [],
   "source": [
    "import random"
   ]
  },
  {
   "cell_type": "code",
   "execution_count": 15,
   "id": "d5008cec-8738-4dff-ad21-e0396475a066",
   "metadata": {},
   "outputs": [
    {
     "data": {
      "text/plain": [
       "{6, 13, 25, 32, 35, 36, 53, 63, 64, 71}"
      ]
     },
     "execution_count": 15,
     "metadata": {},
     "output_type": "execute_result"
    }
   ],
   "source": [
    "{random.randint(1,100) for i in range(10)}"
   ]
  },
  {
   "cell_type": "markdown",
   "id": "92f77e99-933b-4cac-9a2b-e3b436216469",
   "metadata": {},
   "source": [
    "### 29. Check if a set is empty."
   ]
  },
  {
   "cell_type": "code",
   "execution_count": 6,
   "id": "dfb64dc6-4705-41d0-a73f-3e3aaadaa484",
   "metadata": {},
   "outputs": [
    {
     "name": "stdout",
     "output_type": "stream",
     "text": [
      "empty\n"
     ]
    }
   ],
   "source": [
    "s={}\n",
    "if s=={}:\n",
    "    print(\"empty\")\n",
    "else:\n",
    "    print(\"not empty\")"
   ]
  },
  {
   "cell_type": "markdown",
   "id": "ca45c34a-e651-47ae-9a62-b7cb626cab58",
   "metadata": {},
   "source": [
    "### 30. Create a nested set (hint: use frozenset)."
   ]
  },
  {
   "cell_type": "code",
   "execution_count": 26,
   "id": "098de6d6-b102-4cec-80ef-ca281200154b",
   "metadata": {},
   "outputs": [
    {
     "data": {
      "text/plain": [
       "{frozenset({3, 4}), frozenset({1, 2})}"
      ]
     },
     "execution_count": 26,
     "metadata": {},
     "output_type": "execute_result"
    }
   ],
   "source": [
    "s=set()\n",
    "s.add(frozenset((1,2)))\n",
    "s.add(frozenset((3,4)))\n",
    "s"
   ]
  },
  {
   "cell_type": "markdown",
   "id": "a7b914f4-7248-430e-a425-f2836722b9dc",
   "metadata": {},
   "source": [
    "### 31. Remove an element from a set using the discard method."
   ]
  },
  {
   "cell_type": "code",
   "execution_count": 13,
   "id": "f8d2d829-646d-4384-b9c8-ed15ec656cf5",
   "metadata": {},
   "outputs": [
    {
     "data": {
      "text/plain": [
       "{2, 3, 4, 5, 6}"
      ]
     },
     "execution_count": 13,
     "metadata": {},
     "output_type": "execute_result"
    }
   ],
   "source": [
    "s={1,2,3,4,5,6}\n",
    "s.discard(1)\n",
    "s"
   ]
  },
  {
   "cell_type": "markdown",
   "id": "cc956c2b-a2f4-479d-9c56-fbc736391a57",
   "metadata": {},
   "source": [
    "### 32. Compare two sets."
   ]
  },
  {
   "cell_type": "code",
   "execution_count": 15,
   "id": "84c7ffb1-2e2a-407f-bc6d-666741d7dae4",
   "metadata": {},
   "outputs": [
    {
     "name": "stdout",
     "output_type": "stream",
     "text": [
      "equal\n"
     ]
    }
   ],
   "source": [
    "s1={1,2,3}\n",
    "s2={1,2,3,3}\n",
    "if s1==s2:\n",
    "    print(\"equal\")\n",
    "else:\n",
    "    print(\"not equal\")"
   ]
  },
  {
   "cell_type": "markdown",
   "id": "f019c546-1aa4-4ae6-bcf0-9b4dbf246c7a",
   "metadata": {},
   "source": [
    "### 33. Create a set from a string."
   ]
  },
  {
   "cell_type": "code",
   "execution_count": 19,
   "id": "75544347-8fec-4ec9-ae80-8c2d8fbe168a",
   "metadata": {},
   "outputs": [
    {
     "data": {
      "text/plain": [
       "{'a', 'c', 'h', 'i', 'r', 't'}"
      ]
     },
     "execution_count": 19,
     "metadata": {},
     "output_type": "execute_result"
    }
   ],
   "source": [
    "s= \"rachit\"\n",
    "s=set(s)\n",
    "s"
   ]
  },
  {
   "cell_type": "markdown",
   "id": "d2e6a5ec-6714-4780-bfbf-dc3179e6a6d3",
   "metadata": {},
   "source": [
    "### 34. Convert a set of strings to a set of integers."
   ]
  },
  {
   "cell_type": "code",
   "execution_count": 27,
   "id": "74bac857-c4f7-47f1-825f-93b65a3dd859",
   "metadata": {},
   "outputs": [
    {
     "data": {
      "text/plain": [
       "{1, 2, 3}"
      ]
     },
     "execution_count": 27,
     "metadata": {},
     "output_type": "execute_result"
    }
   ],
   "source": [
    "s={\"1\",\"2\",\"3\"}\n",
    "set(map(int,s))"
   ]
  },
  {
   "cell_type": "markdown",
   "id": "4cbae05a-8dce-40f6-b263-14f6f088ec6b",
   "metadata": {},
   "source": [
    "### 35. Convert a set of integers to a set of strings."
   ]
  },
  {
   "cell_type": "code",
   "execution_count": 28,
   "id": "f641010f-26b5-422d-9fd4-b85456e155a8",
   "metadata": {},
   "outputs": [
    {
     "data": {
      "text/plain": [
       "{'1', '2', '3'}"
      ]
     },
     "execution_count": 28,
     "metadata": {},
     "output_type": "execute_result"
    }
   ],
   "source": [
    "s={1,2,3}\n",
    "set(map(str,s))"
   ]
  },
  {
   "cell_type": "markdown",
   "id": "99c7f18a-1bd1-4fea-b3db-25a3569ddb59",
   "metadata": {},
   "source": [
    "### 36. Create a set from a tuple."
   ]
  },
  {
   "cell_type": "code",
   "execution_count": 22,
   "id": "9c3f28d4-23ec-41c6-975e-7417e3cfbe62",
   "metadata": {},
   "outputs": [
    {
     "data": {
      "text/plain": [
       "{1, 2, 3, 4, 5, 6, 7, 8}"
      ]
     },
     "execution_count": 22,
     "metadata": {},
     "output_type": "execute_result"
    }
   ],
   "source": [
    "t=(1,2,3,4,5,6,7,7,8,1,2)\n",
    "t=set(t)\n",
    "t"
   ]
  },
  {
   "cell_type": "markdown",
   "id": "b7a6072a-8fb6-484c-9090-cba2283ba0bd",
   "metadata": {},
   "source": [
    "### 37. Convert a set to a tuple."
   ]
  },
  {
   "cell_type": "code",
   "execution_count": 24,
   "id": "0cd77eec-d299-4be2-a2b0-ed04e5d8c7cc",
   "metadata": {},
   "outputs": [
    {
     "data": {
      "text/plain": [
       "(1, 2, 3, 4, 5, 'rachit')"
      ]
     },
     "execution_count": 24,
     "metadata": {},
     "output_type": "execute_result"
    }
   ],
   "source": [
    "s={1,2,3,4,5,\"rachit\"}\n",
    "s=tuple(s)\n",
    "s"
   ]
  },
  {
   "cell_type": "markdown",
   "id": "381183c1-3257-47fc-9c3f-6cfc3983fa59",
   "metadata": {},
   "source": [
    "### 38. Find the maximum value in a set."
   ]
  },
  {
   "cell_type": "code",
   "execution_count": 26,
   "id": "42452a0c-d4b0-4929-aa14-ce2ee82a1935",
   "metadata": {},
   "outputs": [],
   "source": [
    "from functools import reduce"
   ]
  },
  {
   "cell_type": "code",
   "execution_count": 29,
   "id": "4b78f658-0698-46bf-a6ec-b5a5e4c9b918",
   "metadata": {},
   "outputs": [
    {
     "data": {
      "text/plain": [
       "6"
      ]
     },
     "execution_count": 29,
     "metadata": {},
     "output_type": "execute_result"
    }
   ],
   "source": [
    "s={1,2,3,4,5,6}\n",
    "reduce(lambda x,y:x if x>y else y,s )"
   ]
  },
  {
   "cell_type": "markdown",
   "id": "192cd8a9-3d31-47b4-9d2d-d70c0fb32ed2",
   "metadata": {},
   "source": [
    "### 39. Find the minimum value in a set."
   ]
  },
  {
   "cell_type": "code",
   "execution_count": 30,
   "id": "3757d51f-1837-45cb-84d0-0b4013606e5f",
   "metadata": {},
   "outputs": [
    {
     "data": {
      "text/plain": [
       "1"
      ]
     },
     "execution_count": 30,
     "metadata": {},
     "output_type": "execute_result"
    }
   ],
   "source": [
    "s={1,2,3,4,5,6}\n",
    "reduce(lambda x,y:x if x<y else y,s )"
   ]
  },
  {
   "cell_type": "markdown",
   "id": "e396716d-ca2f-4418-99c7-6cc1025fe20a",
   "metadata": {},
   "source": [
    "### 40. Create a set from user input."
   ]
  },
  {
   "cell_type": "code",
   "execution_count": 48,
   "id": "b1cde46e-d829-4d49-b722-5265d17e0d1a",
   "metadata": {},
   "outputs": [
    {
     "name": "stdin",
     "output_type": "stream",
     "text": [
      "enter the words: rachit,hhi\n"
     ]
    },
    {
     "data": {
      "text/plain": [
       "{'rachit,hhi'}"
      ]
     },
     "execution_count": 48,
     "metadata": {},
     "output_type": "execute_result"
    }
   ],
   "source": [
    "for i i \n",
    "set(input(\"enter the words:\").split())\n",
    "    \n",
    "    \n",
    "    "
   ]
  },
  {
   "cell_type": "markdown",
   "id": "c413ede8-db37-4caf-b01e-8783c797305c",
   "metadata": {},
   "source": [
    "### 41. Check if the intersection of two sets is empty."
   ]
  },
  {
   "cell_type": "code",
   "execution_count": 6,
   "id": "32bd02a1-ff15-470f-aedd-163d4ca8889c",
   "metadata": {},
   "outputs": [
    {
     "name": "stdout",
     "output_type": "stream",
     "text": [
      "not empty\n"
     ]
    }
   ],
   "source": [
    "x={1,2,3}\n",
    "y={3,4,5,6}\n",
    "if x.intersection(y)==set():\n",
    "    print(\"empty\")\n",
    "else:\n",
    "    print(\"not empty\")"
   ]
  },
  {
   "cell_type": "markdown",
   "id": "92eb7f91-afbc-478d-a2de-24ec729d7c23",
   "metadata": {},
   "source": [
    "### 42. Create a set of the first 5 Fibonacci numbers."
   ]
  },
  {
   "cell_type": "code",
   "execution_count": 7,
   "id": "a77f3e55-03f7-4b4d-b8d4-3da5a08da8b6",
   "metadata": {},
   "outputs": [
    {
     "name": "stdout",
     "output_type": "stream",
     "text": [
      "0\n",
      "1\n",
      "1\n",
      "2\n",
      "3\n"
     ]
    }
   ],
   "source": [
    "a,b=0,1\n",
    "for i in range(5):\n",
    "    c=a+b\n",
    "    print(a)\n",
    "    a,b=b,c"
   ]
  },
  {
   "cell_type": "markdown",
   "id": "0abb54cb-5b26-4dc4-b35f-9896e961453f",
   "metadata": {},
   "source": [
    "### 43. Remove duplicates from a list using sets."
   ]
  },
  {
   "cell_type": "code",
   "execution_count": 11,
   "id": "ecef4d73-6df9-4a76-9bc0-edf6d8c0d8ee",
   "metadata": {},
   "outputs": [
    {
     "data": {
      "text/plain": [
       "[1, 2, 3, 4, 5, 6, 7, 8, 9]"
      ]
     },
     "execution_count": 11,
     "metadata": {},
     "output_type": "execute_result"
    }
   ],
   "source": [
    "l = [1,2,3,4,5,6,6,7,8,9]\n",
    "l=set(l)\n",
    "l=list(l)\n",
    "l"
   ]
  },
  {
   "cell_type": "markdown",
   "id": "7bdf2627-efcb-436e-aaeb-73dbabb8abb0",
   "metadata": {},
   "source": [
    "### 44. Check if two sets have the same elements, regardless of their count."
   ]
  },
  {
   "cell_type": "code",
   "execution_count": 36,
   "id": "0d27127e-bf05-4c0b-b06b-c73e12e4ea9a",
   "metadata": {},
   "outputs": [
    {
     "name": "stdout",
     "output_type": "stream",
     "text": [
      "same\n"
     ]
    }
   ],
   "source": [
    "x={1,2,3,4,5,6}\n",
    "y={1,2,3,4,5}\n",
    "if y.issubset(x)==True:\n",
    "    print(\"same\")\n",
    "else:\n",
    "    print(\"different\")"
   ]
  },
  {
   "cell_type": "markdown",
   "id": "bf980d45-c7cd-4d28-9419-eb360e5da626",
   "metadata": {},
   "source": [
    "### 45. Create a set of the first `n` powers of 2."
   ]
  },
  {
   "cell_type": "code",
   "execution_count": 20,
   "id": "ec26ec70-1a86-49d2-b59f-8ce8668a7a8d",
   "metadata": {},
   "outputs": [
    {
     "name": "stdin",
     "output_type": "stream",
     "text": [
      "Enter the terms 5\n"
     ]
    },
    {
     "data": {
      "text/plain": [
       "{1, 2, 4, 8, 16, 32}"
      ]
     },
     "execution_count": 20,
     "metadata": {},
     "output_type": "execute_result"
    }
   ],
   "source": [
    "s={}\n",
    "n=int(input(\"Enter the terms\"))\n",
    "{2**i for i in range(n+1)}    \n",
    "    "
   ]
  },
  {
   "cell_type": "markdown",
   "id": "36e9c783-50e1-45eb-bdeb-4d4f79c7d5ea",
   "metadata": {},
   "source": [
    "### 46. Find the common elements between a set and a list."
   ]
  },
  {
   "cell_type": "code",
   "execution_count": 37,
   "id": "7fa458c4-61b3-4c93-b88c-cd1897ac3f3f",
   "metadata": {},
   "outputs": [
    {
     "data": {
      "text/plain": [
       "{3, 4, 5}"
      ]
     },
     "execution_count": 37,
     "metadata": {},
     "output_type": "execute_result"
    }
   ],
   "source": [
    "l=[1,2,3,4,5]\n",
    "s={3,4,5,6,7,8}\n",
    "l=set(l)\n",
    "l.intersection(s)"
   ]
  },
  {
   "cell_type": "markdown",
   "id": "8f200dcd-e791-4b8c-bad7-d6bd5a869aa3",
   "metadata": {},
   "source": [
    "### 47. Create a set of the first `n` triangular numbers."
   ]
  },
  {
   "cell_type": "code",
   "execution_count": 3,
   "id": "5320365e-c125-4d57-acc4-9a07b9921594",
   "metadata": {},
   "outputs": [
    {
     "name": "stdin",
     "output_type": "stream",
     "text": [
      "enter the terms 5\n"
     ]
    },
    {
     "data": {
      "text/plain": [
       "{1, 3, 6, 10, 15}"
      ]
     },
     "execution_count": 3,
     "metadata": {},
     "output_type": "execute_result"
    }
   ],
   "source": [
    "s=0\n",
    "l=[]\n",
    "n=int(input(\"enter the terms\"))\n",
    "for i in range(1,n+1):\n",
    "    s=s+i\n",
    "    l.append(s)\n",
    "l=set(l)\n",
    "l"
   ]
  },
  {
   "cell_type": "markdown",
   "id": "cbbab113-66b8-4dae-b509-a095d23b5b17",
   "metadata": {},
   "source": [
    "### 48. Check if a set contains another set as a subset."
   ]
  },
  {
   "cell_type": "code",
   "execution_count": 22,
   "id": "27318fab-7c79-4155-98cd-fd0844979392",
   "metadata": {},
   "outputs": [
    {
     "data": {
      "text/plain": [
       "True"
      ]
     },
     "execution_count": 22,
     "metadata": {},
     "output_type": "execute_result"
    }
   ],
   "source": [
    "x={2,3}\n",
    "y={1,2,3}\n",
    "x.issubset(y)"
   ]
  },
  {
   "cell_type": "markdown",
   "id": "4ab6035f-c768-4206-82e7-7d5f89bbfb15",
   "metadata": {},
   "source": [
    "### 49. Create a set of alternating 1s and 0s of length `n`."
   ]
  },
  {
   "cell_type": "code",
   "execution_count": 46,
   "id": "a6a02c6f-c460-4ecb-a1c5-e5786b084ac0",
   "metadata": {},
   "outputs": [
    {
     "name": "stdin",
     "output_type": "stream",
     "text": [
      "enter the length 7\n"
     ]
    },
    {
     "data": {
      "text/plain": [
       "{0, 1}"
      ]
     },
     "execution_count": 46,
     "metadata": {},
     "output_type": "execute_result"
    }
   ],
   "source": [
    "s=[]\n",
    "l=int(input(\"enter the length\"))\n",
    "for i in range(l):\n",
    "    if i%2==0:\n",
    "        s.append(1)\n",
    "    else:\n",
    "        s.append(0)\n",
    "s=set(s)\n",
    "s"
   ]
  },
  {
   "cell_type": "markdown",
   "id": "67e1ad0e-ebf0-4f40-acfe-2b7f42f1bfc2",
   "metadata": {},
   "source": [
    "### 50. Merge multiple sets into one."
   ]
  },
  {
   "cell_type": "code",
   "execution_count": 25,
   "id": "0ef57359-604c-4dd4-9c9b-043b5ce346c3",
   "metadata": {
    "tags": []
   },
   "outputs": [
    {
     "data": {
      "text/plain": [
       "{1, 2, 3, 4, 5, 6}"
      ]
     },
     "execution_count": 25,
     "metadata": {},
     "output_type": "execute_result"
    }
   ],
   "source": [
    "x={1,2}\n",
    "y={3,4}\n",
    "z={5,6}\n",
    "\n",
    "x.union(y.union(z))"
   ]
  }
 ],
 "metadata": {
  "kernelspec": {
   "display_name": "Python 3 (ipykernel)",
   "language": "python",
   "name": "python3"
  },
  "language_info": {
   "codemirror_mode": {
    "name": "ipython",
    "version": 3
   },
   "file_extension": ".py",
   "mimetype": "text/x-python",
   "name": "python",
   "nbconvert_exporter": "python",
   "pygments_lexer": "ipython3",
   "version": "3.10.8"
  }
 },
 "nbformat": 4,
 "nbformat_minor": 5
}
